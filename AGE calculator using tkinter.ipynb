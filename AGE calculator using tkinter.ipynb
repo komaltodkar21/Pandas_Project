{
 "cells": [
  {
   "cell_type": "code",
   "execution_count": 1,
   "id": "20d0ba60",
   "metadata": {},
   "outputs": [],
   "source": [
    "#pip install PIL"
   ]
  },
  {
   "cell_type": "code",
   "execution_count": 2,
   "id": "70c8e100",
   "metadata": {},
   "outputs": [],
   "source": [
    "import datetime\n",
    "import tkinter as tk\n",
    "from PIL import Image, ImageTk  #PIL- Python Image Library"
   ]
  },
  {
   "cell_type": "code",
   "execution_count": 3,
   "id": "b9c84223",
   "metadata": {},
   "outputs": [
    {
     "data": {
      "text/plain": [
       "''"
      ]
     },
     "execution_count": 3,
     "metadata": {},
     "output_type": "execute_result"
    }
   ],
   "source": [
    "window=tk.Tk()\n",
    "window.geometry(\"620x780\")\n",
    "window.title(\" Age Calculator App \")"
   ]
  },
  {
   "cell_type": "code",
   "execution_count": 4,
   "id": "7099ac36",
   "metadata": {},
   "outputs": [],
   "source": [
    "name = tk.Label(text = \"Name\")\n",
    "name.grid(column=0,row=1)\n",
    "year = tk.Label(text = \"Year\")\n",
    "year.grid(column=0,row=2)\n",
    "month = tk.Label(text = \"Month\")\n",
    "month.grid(column=0,row=3)\n",
    "date = tk.Label(text = \"Day\")\n",
    "date.grid(column=0,row=4)"
   ]
  },
  {
   "cell_type": "code",
   "execution_count": 5,
   "id": "50a6cf33",
   "metadata": {},
   "outputs": [],
   "source": [
    "nameEntry = tk.Entry()\n",
    "nameEntry.grid(column=1,row=1)\n",
    "yearEntry = tk.Entry()\n",
    "yearEntry.grid(column=1,row=2)\n",
    "monthEntry = tk.Entry()\n",
    "monthEntry.grid(column=1,row=3)\n",
    "dateEntry = tk.Entry()\n",
    "dateEntry.grid(column=1,row=4)"
   ]
  },
  {
   "cell_type": "code",
   "execution_count": 6,
   "id": "43ddcf78",
   "metadata": {},
   "outputs": [],
   "source": [
    "def getInput():\n",
    "    name=nameEntry.get()\n",
    "    monkey = Person(name,datetime.date(int(yearEntry.get()),int(monthEntry.get()),int(dateEntry.get())))\n",
    "    \n",
    "    textArea = tk.Text(master=window,height=10,width=25)\n",
    "    textArea.grid(column=1,row=6)\n",
    "    answer = \" Hey {monkey}!!!. You are {age} years old!!! \".format(monkey=name, age=monkey.age())\n",
    "    textArea.insert(tk.END,answer)"
   ]
  },
  {
   "cell_type": "code",
   "execution_count": 7,
   "id": "10341831",
   "metadata": {},
   "outputs": [],
   "source": [
    "button=tk.Button(window,text=\"Calculate Age\",command=getInput,bg=\"pink\")\n",
    "button.grid(column=1,row=5)"
   ]
  },
  {
   "cell_type": "code",
   "execution_count": 8,
   "id": "1bdd8a3a",
   "metadata": {},
   "outputs": [],
   "source": [
    "class Person:\n",
    "    def __init__(self,name,birthdate):\n",
    "        self.name = name\n",
    "        self.birthdate = birthdate\n",
    "    def age(self):\n",
    "        today = datetime.date.today()\n",
    "        age = today.year-self.birthdate.year\n",
    "        return age"
   ]
  },
  {
   "cell_type": "code",
   "execution_count": 9,
   "id": "7587dfa8",
   "metadata": {},
   "outputs": [],
   "source": [
    "image=Image.open('C:/Users/KOMAL/Desktop/pikachu.jpg')\n",
    "image.thumbnail((300,300),Image.ANTIALIAS)\n",
    "photo=ImageTk.PhotoImage(image)\n",
    "label_image=tk.Label(image=photo)\n",
    "label_image.grid(column=1,row=0)"
   ]
  },
  {
   "cell_type": "code",
   "execution_count": 10,
   "id": "777afb9e",
   "metadata": {},
   "outputs": [],
   "source": [
    "window.mainloop()"
   ]
  },
  {
   "cell_type": "code",
   "execution_count": null,
   "id": "e7bda954",
   "metadata": {},
   "outputs": [],
   "source": []
  },
  {
   "cell_type": "code",
   "execution_count": null,
   "id": "224a7ddf",
   "metadata": {},
   "outputs": [],
   "source": []
  },
  {
   "cell_type": "code",
   "execution_count": null,
   "id": "cb900e88",
   "metadata": {},
   "outputs": [],
   "source": []
  }
 ],
 "metadata": {
  "kernelspec": {
   "display_name": "Python 3",
   "language": "python",
   "name": "python3"
  },
  "language_info": {
   "codemirror_mode": {
    "name": "ipython",
    "version": 3
   },
   "file_extension": ".py",
   "mimetype": "text/x-python",
   "name": "python",
   "nbconvert_exporter": "python",
   "pygments_lexer": "ipython3",
   "version": "3.8.8"
  }
 },
 "nbformat": 4,
 "nbformat_minor": 5
}
