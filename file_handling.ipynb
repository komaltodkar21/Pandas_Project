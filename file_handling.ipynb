{
 "cells": [
  {
   "cell_type": "code",
   "execution_count": 1,
   "id": "35321a7d",
   "metadata": {},
   "outputs": [
    {
     "data": {
      "text/plain": [
       "<_io.TextIOWrapper name='C:/Users/KOMAL/Desktop/abc.txt' mode='r+' encoding='cp1252'>"
      ]
     },
     "execution_count": 1,
     "metadata": {},
     "output_type": "execute_result"
    }
   ],
   "source": [
    "file = open(\"C:/Users/KOMAL/Desktop/abc.txt\",\"r+\") # read mode\n",
    "file"
   ]
  },
  {
   "cell_type": "code",
   "execution_count": 2,
   "id": "5f5165db",
   "metadata": {},
   "outputs": [
    {
     "data": {
      "text/plain": [
       "'red green red green green blue yellow blue\\ngreen red green green blue yellow blue red'"
      ]
     },
     "execution_count": 2,
     "metadata": {},
     "output_type": "execute_result"
    }
   ],
   "source": [
    "FILE=file.read()\n",
    "FILE"
   ]
  },
  {
   "cell_type": "code",
   "execution_count": 3,
   "id": "3e6d77b2",
   "metadata": {},
   "outputs": [
    {
     "name": "stdout",
     "output_type": "stream",
     "text": [
      "['red', 'green', 'red', 'green', 'green', 'blue', 'yellow', 'blue\\ngreen', 'red', 'green', 'green', 'blue', 'yellow', 'blue', 'red']\n"
     ]
    }
   ],
   "source": [
    "l=[]\n",
    "for i in FILE.split(' '):\n",
    "        l.append(i)\n",
    "print(l)\n",
    "    "
   ]
  },
  {
   "cell_type": "code",
   "execution_count": 4,
   "id": "0b079111",
   "metadata": {},
   "outputs": [
    {
     "name": "stdout",
     "output_type": "stream",
     "text": [
      "red= 4\n",
      "green= 5\n",
      "yellow= 2\n",
      "blue= 3\n"
     ]
    }
   ],
   "source": [
    "red=[]\n",
    "for i in FILE.split(' '):\n",
    "    if i == \"red\":\n",
    "        red.append(i)\n",
    "#print(l)\n",
    "print(\"red=\", len(red))\n",
    "green=[]\n",
    "for i in FILE.split(' '):\n",
    "    if i == \"green\":\n",
    "        green.append(i)\n",
    "#print(l)\n",
    "print(\"green=\", len(green))\n",
    "yellow=[]\n",
    "for i in FILE.split(' '):\n",
    "    if i == \"yellow\":\n",
    "        yellow.append(i)\n",
    "#print(l)\n",
    "print(\"yellow=\", len(yellow))\n",
    "blue=[]\n",
    "for i in FILE.split(' '):\n",
    "    if i == \"blue\":\n",
    "        blue.append(i)\n",
    "#print(l)\n",
    "print(\"blue=\", len(blue))"
   ]
  },
  {
   "cell_type": "code",
   "execution_count": 5,
   "id": "3f218236",
   "metadata": {},
   "outputs": [
    {
     "data": {
      "text/plain": [
       "<_io.TextIOWrapper name='C:/Users/KOMAL/Desktop/prime.txt' mode='r+' encoding='cp1252'>"
      ]
     },
     "execution_count": 5,
     "metadata": {},
     "output_type": "execute_result"
    }
   ],
   "source": [
    "prime = open(\"C:/Users/KOMAL/Desktop/prime.txt\",\"r+\") \n",
    "prime"
   ]
  },
  {
   "cell_type": "code",
   "execution_count": 6,
   "id": "ab067772",
   "metadata": {},
   "outputs": [
    {
     "data": {
      "text/plain": [
       "'2, 3, 5, 7, 11, 13, 17, 19, 23, 29, 31, 37, 41, 43, 47, 53, 59, 61, 67, 71, 73, 79, 83, 89, 97, 101, 103, 107, 109, 113, 127, 131, 137, 139, 149, 151, 157, 163, 167, 173, 179, 181, 191, 193, 197, 199, 211, 223, 227, 229, 233, 239, 241, 251, 257, 263, 269, 271, 277, 281, 283, 293, 307, 311, 313, 317, 331, 337, 347, 349, 353, 359, 367, 373, 379, 383, 389, 397, 401, 409, 419, 421, 431, 433, 439, 443, 449, 457, 461, 463, 467, 479, 487, 491, 499, 503, 509, 521, 523, 541, 547, 557, 563, 569, 571, 577, 587, 593, 599, 601, 607, 613, 617, 619, 631, 641, 643, 647, 653, 659, 661, 673, 677, 683, 691,  701, 709, 719, 727, 733, 739, 743, 751, 757, 761, 769, 773, 787, 797, 809, 811, 821, 823, 827, 829, 839, 853, 857, 859, 863, 877, 881, 883, 887, 907, 911, 919, 929, 937, 941, 947, 953, 967, 971, 977, 983, 991, 997'"
      ]
     },
     "execution_count": 6,
     "metadata": {},
     "output_type": "execute_result"
    }
   ],
   "source": [
    "p=prime.read()\n",
    "p"
   ]
  },
  {
   "cell_type": "code",
   "execution_count": 7,
   "id": "c7eff6e5",
   "metadata": {},
   "outputs": [
    {
     "data": {
      "text/plain": [
       "<_io.TextIOWrapper name='C:/Users/KOMAL/Desktop/happy.txt' mode='r+' encoding='cp1252'>"
      ]
     },
     "execution_count": 7,
     "metadata": {},
     "output_type": "execute_result"
    }
   ],
   "source": [
    "happy = open(\"C:/Users/KOMAL/Desktop/happy.txt\",\"r+\") \n",
    "happy"
   ]
  },
  {
   "cell_type": "code",
   "execution_count": 8,
   "id": "00807d4f",
   "metadata": {},
   "outputs": [
    {
     "data": {
      "text/plain": [
       "'1, 7, 10, 13, 19, 23, 28, 31, 32, 44, 49, 68, 70, 79, 82, 86, 91, 94, 97, 100, 103, 109, 129, 130, 133, 139, 167, 176, 188, 190, 192, 193, 203, 208, 219, 226, 230, 236, 239, 262, 263, 280, 291, 293, 301, 302, 310, 313, 319, 320, 326, 329, 331, 338, 356, 362, 365, 367, 368, 376, 379, 383, 386, 391, 392, 397, 404, 409, 440, 446, 464, 469, 478, 487, 490, 496, 536, 556, 563, 565, 566, 608, 617, 622, 623, 632, 635, 637, 638, 644, 649, 653, 655, 656, 665, 671, 673, 680, 683, 694, 700, 709, 716, 736, 739, 748, 761, 763, 784, 790, 793, 802, 806, 818, 820, 833, 836, 847, 860, 863, 874, 881, 888, 899, 901, 904, 907, 910, 912, 913, 921, 923, 931, 932, 937, 940, 946, 964, 970, 973, 989, 998, 1000'"
      ]
     },
     "execution_count": 8,
     "metadata": {},
     "output_type": "execute_result"
    }
   ],
   "source": [
    "h=happy.read()\n",
    "h"
   ]
  },
  {
   "cell_type": "code",
   "execution_count": 9,
   "id": "1ceea4e7",
   "metadata": {},
   "outputs": [
    {
     "name": "stdout",
     "output_type": "stream",
     "text": [
      "['2', '3', '5', '7', '11', '13', '17', '19', '23', '29', '31', '37', '41', '43', '47', '53', '59', '61', '67', '71', '73', '79', '83', '89', '97', '101', '103', '107', '109', '113', '127', '131', '137', '139', '149', '151', '157', '163', '167', '173', '179', '181', '191', '193', '197', '199', '211', '223', '227', '229', '233', '239', '241', '251', '257', '263', '269', '271', '277', '281', '283', '293', '307', '311', '313', '317', '331', '337', '347', '349', '353', '359', '367', '373', '379', '383', '389', '397', '401', '409', '419', '421', '431', '433', '439', '443', '449', '457', '461', '463', '467', '479', '487', '491', '499', '503', '509', '521', '523', '541', '547', '557', '563', '569', '571', '577', '587', '593', '599', '601', '607', '613', '617', '619', '631', '641', '643', '647', '653', '659', '661', '673', '677', '683', '691', ' 701', '709', '719', '727', '733', '739', '743', '751', '757', '761', '769', '773', '787', '797', '809', '811', '821', '823', '827', '829', '839', '853', '857', '859', '863', '877', '881', '883', '887', '907', '911', '919', '929', '937', '941', '947', '953', '967', '971', '977', '983', '991', '997']\n"
     ]
    }
   ],
   "source": [
    "P=[]\n",
    "for i in p.split(', '):\n",
    "        P.append(i)\n",
    "print(P)"
   ]
  },
  {
   "cell_type": "code",
   "execution_count": 10,
   "id": "0774573a",
   "metadata": {},
   "outputs": [
    {
     "name": "stdout",
     "output_type": "stream",
     "text": [
      "['1', '7', '10', '13', '19', '23', '28', '31', '32', '44', '49', '68', '70', '79', '82', '86', '91', '94', '97', '100', '103', '109', '129', '130', '133', '139', '167', '176', '188', '190', '192', '193', '203', '208', '219', '226', '230', '236', '239', '262', '263', '280', '291', '293', '301', '302', '310', '313', '319', '320', '326', '329', '331', '338', '356', '362', '365', '367', '368', '376', '379', '383', '386', '391', '392', '397', '404', '409', '440', '446', '464', '469', '478', '487', '490', '496', '536', '556', '563', '565', '566', '608', '617', '622', '623', '632', '635', '637', '638', '644', '649', '653', '655', '656', '665', '671', '673', '680', '683', '694', '700', '709', '716', '736', '739', '748', '761', '763', '784', '790', '793', '802', '806', '818', '820', '833', '836', '847', '860', '863', '874', '881', '888', '899', '901', '904', '907', '910', '912', '913', '921', '923', '931', '932', '937', '940', '946', '964', '970', '973', '989', '998', '1000']\n"
     ]
    }
   ],
   "source": [
    "H=[]\n",
    "for i in h.split(', '):\n",
    "        H.append(i)\n",
    "print(H)"
   ]
  },
  {
   "cell_type": "code",
   "execution_count": 11,
   "id": "96545208",
   "metadata": {},
   "outputs": [
    {
     "name": "stdout",
     "output_type": "stream",
     "text": [
      "['7', '13', '19', '23', '31', '79', '97', '103', '109', '139', '167', '193', '239', '263', '293', '313', '331', '367', '379', '383', '397', '409', '487', '563', '617', '653', '673', '683', '709', '739', '761', '863', '881', '907', '937']\n"
     ]
    }
   ],
   "source": [
    "comman=[]\n",
    "for x in P:\n",
    "    for y in H:\n",
    "        if x==y:\n",
    "            comman.append(x)\n",
    "print(comman)\n",
    "            "
   ]
  },
  {
   "cell_type": "code",
   "execution_count": 16,
   "id": "3c694237",
   "metadata": {},
   "outputs": [
    {
     "data": {
      "text/plain": [
       "<_io.TextIOWrapper name='C:/Users/KOMAL/Desktop/xyz.txt' mode='r' encoding='cp1252'>"
      ]
     },
     "execution_count": 16,
     "metadata": {},
     "output_type": "execute_result"
    }
   ],
   "source": [
    "f = open(\"C:/Users/KOMAL/Desktop/xyz.txt\",\"r\") \n",
    "f"
   ]
  },
  {
   "cell_type": "code",
   "execution_count": 17,
   "id": "e591e003",
   "metadata": {},
   "outputs": [
    {
     "data": {
      "text/plain": [
       "'hello'"
      ]
     },
     "execution_count": 17,
     "metadata": {},
     "output_type": "execute_result"
    }
   ],
   "source": [
    "f.read()"
   ]
  },
  {
   "cell_type": "code",
   "execution_count": 18,
   "id": "08b7da18",
   "metadata": {},
   "outputs": [
    {
     "data": {
      "text/plain": [
       "<_io.TextIOWrapper name='C:/Users/KOMAL/Desktop/xyz.txt' mode='w' encoding='cp1252'>"
      ]
     },
     "execution_count": 18,
     "metadata": {},
     "output_type": "execute_result"
    }
   ],
   "source": [
    "f = open(\"C:/Users/KOMAL/Desktop/xyz.txt\",\"w\")  # write mode\n",
    "f"
   ]
  },
  {
   "cell_type": "code",
   "execution_count": 19,
   "id": "3b1a601b",
   "metadata": {},
   "outputs": [],
   "source": [
    "f.write(\"Komal\")  # writes new content in the file\n",
    "f.close()         # closing the file is manditory"
   ]
  },
  {
   "cell_type": "code",
   "execution_count": 8,
   "id": "abac84b0",
   "metadata": {},
   "outputs": [
    {
     "data": {
      "text/plain": [
       "<_io.TextIOWrapper name='C:/Users/KOMAL/Desktop/pqr.txt' mode='r' encoding='cp1252'>"
      ]
     },
     "execution_count": 8,
     "metadata": {},
     "output_type": "execute_result"
    }
   ],
   "source": [
    "fh = open(\"C:/Users/KOMAL/Desktop/pqr.txt\",\"r\") \n",
    "fh"
   ]
  },
  {
   "cell_type": "code",
   "execution_count": 9,
   "id": "47fe9eb3",
   "metadata": {},
   "outputs": [
    {
     "data": {
      "text/plain": [
       "'Good Morning'"
      ]
     },
     "execution_count": 9,
     "metadata": {},
     "output_type": "execute_result"
    }
   ],
   "source": [
    "fh.read()"
   ]
  },
  {
   "cell_type": "code",
   "execution_count": 10,
   "id": "c41e03c2",
   "metadata": {},
   "outputs": [],
   "source": [
    "fh = open(\"C:/Users/KOMAL/Desktop/pqr.txt\",\"a\")  # append mode\n",
    "fh.write(\" Everyone\")                             # add content in file           \n",
    "fh.close()                                       # closing the file is manditory"
   ]
  },
  {
   "cell_type": "code",
   "execution_count": 23,
   "id": "64b136d1",
   "metadata": {},
   "outputs": [
    {
     "data": {
      "text/plain": [
       "<_io.TextIOWrapper name='C:/Users/KOMAL/Desktop/efg.txt' mode='r' encoding='cp1252'>"
      ]
     },
     "execution_count": 23,
     "metadata": {},
     "output_type": "execute_result"
    }
   ],
   "source": [
    "file = open(\"C:/Users/KOMAL/Desktop/efg.txt\",\"r\") \n",
    "file"
   ]
  },
  {
   "cell_type": "code",
   "execution_count": 24,
   "id": "56e12d37",
   "metadata": {},
   "outputs": [
    {
     "data": {
      "text/plain": [
       "'Hello\\nGood Morning\\nBye'"
      ]
     },
     "execution_count": 24,
     "metadata": {},
     "output_type": "execute_result"
    }
   ],
   "source": [
    "FILE=file.read()\n",
    "FILE"
   ]
  },
  {
   "cell_type": "code",
   "execution_count": 25,
   "id": "04051265",
   "metadata": {},
   "outputs": [
    {
     "name": "stdout",
     "output_type": "stream",
     "text": [
      "Hello\n",
      "Good Morning\n",
      "Bye\n"
     ]
    }
   ],
   "source": [
    "print(FILE)"
   ]
  },
  {
   "cell_type": "code",
   "execution_count": 26,
   "id": "cb460ce3",
   "metadata": {},
   "outputs": [
    {
     "data": {
      "text/plain": [
       "24"
      ]
     },
     "execution_count": 26,
     "metadata": {},
     "output_type": "execute_result"
    }
   ],
   "source": [
    "file.tell()     # returns current postion of file pointer i.e end of file position"
   ]
  },
  {
   "cell_type": "code",
   "execution_count": 27,
   "id": "379b7486",
   "metadata": {},
   "outputs": [
    {
     "data": {
      "text/plain": [
       "7"
      ]
     },
     "execution_count": 27,
     "metadata": {},
     "output_type": "execute_result"
    }
   ],
   "source": [
    "file.seek(7)   # changes the cursor position by specified bytes"
   ]
  },
  {
   "cell_type": "code",
   "execution_count": 28,
   "id": "bb4a4633",
   "metadata": {},
   "outputs": [
    {
     "data": {
      "text/plain": [
       "7"
      ]
     },
     "execution_count": 28,
     "metadata": {},
     "output_type": "execute_result"
    }
   ],
   "source": [
    "file.tell()"
   ]
  },
  {
   "cell_type": "code",
   "execution_count": null,
   "id": "10a5896e",
   "metadata": {},
   "outputs": [],
   "source": []
  }
 ],
 "metadata": {
  "kernelspec": {
   "display_name": "Python 3",
   "language": "python",
   "name": "python3"
  },
  "language_info": {
   "codemirror_mode": {
    "name": "ipython",
    "version": 3
   },
   "file_extension": ".py",
   "mimetype": "text/x-python",
   "name": "python",
   "nbconvert_exporter": "python",
   "pygments_lexer": "ipython3",
   "version": "3.8.8"
  }
 },
 "nbformat": 4,
 "nbformat_minor": 5
}
