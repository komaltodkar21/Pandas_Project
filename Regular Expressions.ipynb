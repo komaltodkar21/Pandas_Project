{
 "cells": [
  {
   "cell_type": "code",
   "execution_count": 1,
   "id": "7bcdca7b",
   "metadata": {},
   "outputs": [
    {
     "data": {
      "text/plain": [
       "'\\nWhat are the words connected by \\'--\\' in the  text.\\n[]\\tA set of characters\\t\"[a-m]\"\\n\\n\\tAny character (except newline character)\\t\"he..o\"\\n^\\tStarts with\\n\\n$\\tEnds with\\n|\\tEither or\\n\\n'"
      ]
     },
     "execution_count": 1,
     "metadata": {},
     "output_type": "execute_result"
    }
   ],
   "source": [
    "import re #regular expression\n",
    "\n",
    "'''\n",
    "What are the words connected by '--' in the  text.\n",
    "[]\tA set of characters\t\"[a-m]\"\n",
    "\n",
    "\tAny character (except newline character)\t\"he..o\"\n",
    "^\tStarts with\n",
    "\n",
    "$\tEnds with\n",
    "|\tEither or\n",
    "\n",
    "'''"
   ]
  },
  {
   "cell_type": "code",
   "execution_count": 2,
   "id": "472131cd",
   "metadata": {},
   "outputs": [],
   "source": [
    "text= \"As a young industry that champions innovation and rates its practitioners based on their ability to apprehend (sorry, “grok”) the continual emergence of new technologies, frameworks, protocols and data models, we are not particularly familiar with tradition. However, the practice of arranging type for optimal pleasure and comfort is a centuries-old discipline. As long ago as 1927, the noted typographer Jan Tschichold spoke of the typesetting “methods and rules upon which it is impossible to improve” — a set of rules it would be foolish to ignore.\""
   ]
  },
  {
   "cell_type": "code",
   "execution_count": 3,
   "id": "cdedb14e",
   "metadata": {},
   "outputs": [],
   "source": [
    "x= re.search(\"^As\",text)  #^abc checks weather abc is match with start of the string or not"
   ]
  },
  {
   "cell_type": "code",
   "execution_count": 4,
   "id": "b4d7f5a7",
   "metadata": {},
   "outputs": [
    {
     "name": "stdout",
     "output_type": "stream",
     "text": [
      "Yes this is a match\n"
     ]
    }
   ],
   "source": [
    "if x:\n",
    "    print(\"Yes this is a match\")\n",
    "else:\n",
    "    print(\"Not a match\")"
   ]
  },
  {
   "cell_type": "code",
   "execution_count": 5,
   "id": "f63fd8c7",
   "metadata": {},
   "outputs": [],
   "source": [
    "y= re.search(\"^this\",text)"
   ]
  },
  {
   "cell_type": "code",
   "execution_count": 6,
   "id": "08d5ced2",
   "metadata": {},
   "outputs": [
    {
     "name": "stdout",
     "output_type": "stream",
     "text": [
      "Not a match\n"
     ]
    }
   ],
   "source": [
    "if y:\n",
    "    print(\"Yes this is a match\")\n",
    "else:\n",
    "    print(\"Not a match\")"
   ]
  },
  {
   "cell_type": "code",
   "execution_count": 7,
   "id": "642de77b",
   "metadata": {},
   "outputs": [],
   "source": [
    "x= re.search(\"ignore.$\",text)  #xyz$ checks weather xyz is match with the end of the string or not"
   ]
  },
  {
   "cell_type": "code",
   "execution_count": 8,
   "id": "ffe2f440",
   "metadata": {},
   "outputs": [
    {
     "name": "stdout",
     "output_type": "stream",
     "text": [
      "Yes this is a match\n"
     ]
    }
   ],
   "source": [
    "if x:\n",
    "    print(\"Yes this is a match\")\n",
    "else:\n",
    "    print(\"Not a match\")"
   ]
  },
  {
   "cell_type": "code",
   "execution_count": 9,
   "id": "938eee4b",
   "metadata": {},
   "outputs": [],
   "source": [
    "y= re.search(\"i$\",text)"
   ]
  },
  {
   "cell_type": "code",
   "execution_count": 10,
   "id": "5f328c2f",
   "metadata": {},
   "outputs": [
    {
     "name": "stdout",
     "output_type": "stream",
     "text": [
      "Not a match\n"
     ]
    }
   ],
   "source": [
    "if y:\n",
    "    print(\"Yes this is a match\")\n",
    "else:\n",
    "    print(\"Not a match\")"
   ]
  },
  {
   "cell_type": "code",
   "execution_count": 13,
   "id": "2df60a84",
   "metadata": {},
   "outputs": [],
   "source": [
    "x= re.search(\"\\s\",text)"
   ]
  },
  {
   "cell_type": "code",
   "execution_count": 14,
   "id": "23e5d40a",
   "metadata": {},
   "outputs": [
    {
     "name": "stdout",
     "output_type": "stream",
     "text": [
      "<re.Match object; span=(2, 3), match=' '>\n"
     ]
    }
   ],
   "source": [
    "print(x)"
   ]
  },
  {
   "cell_type": "code",
   "execution_count": 15,
   "id": "c1f9075a",
   "metadata": {},
   "outputs": [
    {
     "data": {
      "text/plain": [
       "2"
      ]
     },
     "execution_count": 15,
     "metadata": {},
     "output_type": "execute_result"
    }
   ],
   "source": [
    "x.start()"
   ]
  },
  {
   "cell_type": "code",
   "execution_count": 16,
   "id": "ee46ab29",
   "metadata": {},
   "outputs": [],
   "source": [
    "x= re.findall(\"and\",text)"
   ]
  },
  {
   "cell_type": "code",
   "execution_count": 17,
   "id": "4a7fb1fc",
   "metadata": {},
   "outputs": [
    {
     "data": {
      "text/plain": [
       "['and', 'and', 'and', 'and']"
      ]
     },
     "execution_count": 17,
     "metadata": {},
     "output_type": "execute_result"
    }
   ],
   "source": [
    "x"
   ]
  },
  {
   "cell_type": "code",
   "execution_count": 18,
   "id": "ade145c6",
   "metadata": {},
   "outputs": [
    {
     "data": {
      "text/plain": [
       "[]"
      ]
     },
     "execution_count": 18,
     "metadata": {},
     "output_type": "execute_result"
    }
   ],
   "source": [
    "x= re.findall(\"komal\",text)\n",
    "x"
   ]
  },
  {
   "cell_type": "code",
   "execution_count": 19,
   "id": "5ec2c783",
   "metadata": {},
   "outputs": [],
   "source": [
    "x= re.findall(\"the\",text)"
   ]
  },
  {
   "cell_type": "code",
   "execution_count": 20,
   "id": "9b921203",
   "metadata": {},
   "outputs": [
    {
     "data": {
      "text/plain": [
       "['the', 'the', 'the', 'the', 'the']"
      ]
     },
     "execution_count": 20,
     "metadata": {},
     "output_type": "execute_result"
    }
   ],
   "source": [
    "x"
   ]
  },
  {
   "cell_type": "code",
   "execution_count": 21,
   "id": "0bac4db8",
   "metadata": {},
   "outputs": [
    {
     "name": "stdout",
     "output_type": "stream",
     "text": [
      "the has repeated  5 times\n"
     ]
    }
   ],
   "source": [
    "print(\"the has repeated \", len(x),\"times\")"
   ]
  },
  {
   "cell_type": "code",
   "execution_count": 22,
   "id": "52f4c20d",
   "metadata": {},
   "outputs": [
    {
     "name": "stdout",
     "output_type": "stream",
     "text": [
      "As a young industry that champions innovation and rates its practitioners based on their ability to apprehend (sorry, “grok”) the continual emergence of new technologies, frameworks, protocols and data models, we are not particularly familiar with tradition. However, the practice of arranging type for optimal pleasure and comfort is a centuries-old discipline. As long ago as 1927, the noted typographer Jan Tschichold spoke of the typesetting “methods and rules upon which it is impossible to improve” — a set of rules it would be foolish to ignore.\n"
     ]
    }
   ],
   "source": [
    "print(text)"
   ]
  },
  {
   "cell_type": "code",
   "execution_count": 23,
   "id": "c69a09c2",
   "metadata": {},
   "outputs": [
    {
     "name": "stdout",
     "output_type": "stream",
     "text": [
      "['A', 's', 'a', 'y', 'o', 'u', 'n', 'g', 'i', 'n', 'd', 'u', 's', 't', 'r', 'y', 't', 'h', 'a', 't', 'c', 'h', 'a', 'm', 'p', 'i', 'o', 'n', 's', 'i', 'n', 'n', 'o', 'v', 'a', 't', 'i', 'o', 'n', 'a', 'n', 'd', 'r', 'a', 't', 'e', 's', 'i', 't', 's', 'p', 'r', 'a', 'c', 't', 'i', 't', 'i', 'o', 'n', 'e', 'r', 's', 'b', 'a', 's', 'e', 'd', 'o', 'n', 't', 'h', 'e', 'i', 'r', 'a', 'b', 'i', 'l', 'i', 't', 'y', 't', 'o', 'a', 'p', 'p', 'r', 'e', 'h', 'e', 'n', 'd', 's', 'o', 'r', 'r', 'y', 'g', 'r', 'o', 'k', 't', 'h', 'e', 'c', 'o', 'n', 't', 'i', 'n', 'u', 'a', 'l', 'e', 'm', 'e', 'r', 'g', 'e', 'n', 'c', 'e', 'o', 'f', 'n', 'e', 'w', 't', 'e', 'c', 'h', 'n', 'o', 'l', 'o', 'g', 'i', 'e', 's', 'f', 'r', 'a', 'm', 'e', 'w', 'o', 'r', 'k', 's', 'p', 'r', 'o', 't', 'o', 'c', 'o', 'l', 's', 'a', 'n', 'd', 'd', 'a', 't', 'a', 'm', 'o', 'd', 'e', 'l', 's', 'w', 'e', 'a', 'r', 'e', 'n', 'o', 't', 'p', 'a', 'r', 't', 'i', 'c', 'u', 'l', 'a', 'r', 'l', 'y', 'f', 'a', 'm', 'i', 'l', 'i', 'a', 'r', 'w', 'i', 't', 'h', 't', 'r', 'a', 'd', 'i', 't', 'i', 'o', 'n', 'H', 'o', 'w', 'e', 'v', 'e', 'r', 't', 'h', 'e', 'p', 'r', 'a', 'c', 't', 'i', 'c', 'e', 'o', 'f', 'a', 'r', 'r', 'a', 'n', 'g', 'i', 'n', 'g', 't', 'y', 'p', 'e', 'f', 'o', 'r', 'o', 'p', 't', 'i', 'm', 'a', 'l', 'p', 'l', 'e', 'a', 's', 'u', 'r', 'e', 'a', 'n', 'd', 'c', 'o', 'm', 'f', 'o', 'r', 't', 'i', 's', 'a', 'c', 'e', 'n', 't', 'u', 'r', 'i', 'e', 's', 'o', 'l', 'd', 'd', 'i', 's', 'c', 'i', 'p', 'l', 'i', 'n', 'e', 'A', 's', 'l', 'o', 'n', 'g', 'a', 'g', 'o', 'a', 's', '1', '9', '2', '7', 't', 'h', 'e', 'n', 'o', 't', 'e', 'd', 't', 'y', 'p', 'o', 'g', 'r', 'a', 'p', 'h', 'e', 'r', 'J', 'a', 'n', 'T', 's', 'c', 'h', 'i', 'c', 'h', 'o', 'l', 'd', 's', 'p', 'o', 'k', 'e', 'o', 'f', 't', 'h', 'e', 't', 'y', 'p', 'e', 's', 'e', 't', 't', 'i', 'n', 'g', 'm', 'e', 't', 'h', 'o', 'd', 's', 'a', 'n', 'd', 'r', 'u', 'l', 'e', 's', 'u', 'p', 'o', 'n', 'w', 'h', 'i', 'c', 'h', 'i', 't', 'i', 's', 'i', 'm', 'p', 'o', 's', 's', 'i', 'b', 'l', 'e', 't', 'o', 'i', 'm', 'p', 'r', 'o', 'v', 'e', 'a', 's', 'e', 't', 'o', 'f', 'r', 'u', 'l', 'e', 's', 'i', 't', 'w', 'o', 'u', 'l', 'd', 'b', 'e', 'f', 'o', 'o', 'l', 'i', 's', 'h', 't', 'o', 'i', 'g', 'n', 'o', 'r', 'e']\n"
     ]
    }
   ],
   "source": [
    "x= re.findall(\"\\w\",text)\n",
    "print(x)\n"
   ]
  },
  {
   "cell_type": "code",
   "execution_count": 24,
   "id": "4e4342f3",
   "metadata": {},
   "outputs": [
    {
     "name": "stdout",
     "output_type": "stream",
     "text": [
      "['i', 'i', 'i', 'i', 'i', 'i', 'i', 'i', 'i', 'i', 'i', 'i', 'i', 'i', 'i', 'i', 'i', 'i', 'i', 'i', 'i', 'i', 'i', 'i', 'i', 'i', 'i', 'i', 'i', 'i', 'i', 'i', 'i', 'i', 'i', 'i', 'i']\n"
     ]
    }
   ],
   "source": [
    "I=[]\n",
    "for y in x:\n",
    "    if y==\"i\":\n",
    "        I.append(y)\n",
    "print(I)\n",
    "    "
   ]
  },
  {
   "cell_type": "code",
   "execution_count": 25,
   "id": "4e52a212",
   "metadata": {},
   "outputs": [
    {
     "name": "stdout",
     "output_type": "stream",
     "text": [
      "i has repeated  37 times\n"
     ]
    }
   ],
   "source": [
    "print(\"i has repeated \",len(I),\"times\" )"
   ]
  },
  {
   "cell_type": "code",
   "execution_count": 26,
   "id": "259b0990",
   "metadata": {},
   "outputs": [
    {
     "name": "stdout",
     "output_type": "stream",
     "text": [
      "As a young industry that champions innovation and rates its practitioners based on their ability to apprehend (sorry, “grok”) the continual emergence of new technologies, frameworks, protocols and data models, we are not particularly familiar with tradition. However, the practice of arranging type for optimal pleasure and comfort is a centuries-old discipline. As long ago as 1927, the noted typographer Jan Tschichold spoke of the typesetting “methods and rules upon which it is impossible to improve” — a set of rules it would be foolish to ignore.\n"
     ]
    }
   ],
   "source": [
    "text.split(\" \")\n",
    "print(text)"
   ]
  },
  {
   "cell_type": "code",
   "execution_count": 27,
   "id": "1de3e203",
   "metadata": {},
   "outputs": [
    {
     "name": "stdout",
     "output_type": "stream",
     "text": [
      "['As', 'a', 'young', 'industry', 'that', 'champions', 'innovation', 'and', 'rates', 'its', 'practitioners', 'based', 'on', 'their', 'ability', 'to', 'apprehend', '(sorry,', '“grok”)', 'the', 'continual', 'emergence', 'of', 'new', 'technologies,', 'frameworks,', 'protocols', 'and', 'data', 'models,', 'we', 'are', 'not', 'particularly', 'familiar', 'with', 'tradition.', 'However,', 'the', 'practice', 'of', 'arranging', 'type', 'for', 'optimal', 'pleasure', 'and', 'comfort', 'is', 'a', 'centuries-old', 'discipline.', 'As', 'long', 'ago', 'as', '1927,', 'the', 'noted', 'typographer', 'Jan', 'Tschichold', 'spoke', 'of', 'the', 'typesetting', '“methods', 'and', 'rules', 'upon', 'which', 'it', 'is', 'impossible', 'to', 'improve”', '—', 'a', 'set', 'of', 'rules', 'it', 'would', 'be', 'foolish', 'to', 'ignore.']\n"
     ]
    }
   ],
   "source": [
    "l=[]\n",
    "for i in text.split(\" \"):\n",
    "    l.append(i)\n",
    "print(l)\n"
   ]
  },
  {
   "cell_type": "code",
   "execution_count": 28,
   "id": "5cad690e",
   "metadata": {},
   "outputs": [
    {
     "name": "stdout",
     "output_type": "stream",
     "text": [
      "['a', 'a', 'a']\n"
     ]
    }
   ],
   "source": [
    "A=[]\n",
    "for x in l:\n",
    "    if x==\"a\":\n",
    "        A.append(x)\n",
    "print(A)"
   ]
  },
  {
   "cell_type": "code",
   "execution_count": 29,
   "id": "2f53d518",
   "metadata": {},
   "outputs": [
    {
     "name": "stdout",
     "output_type": "stream",
     "text": [
      "word a has repeated  3 times in the paragraph.\n"
     ]
    }
   ],
   "source": [
    "print(\"word a has repeated \",len(A),\"times in the paragraph.\")"
   ]
  },
  {
   "cell_type": "code",
   "execution_count": null,
   "id": "791f281b",
   "metadata": {},
   "outputs": [],
   "source": []
  },
  {
   "cell_type": "code",
   "execution_count": null,
   "id": "73c22da5",
   "metadata": {},
   "outputs": [],
   "source": []
  }
 ],
 "metadata": {
  "kernelspec": {
   "display_name": "Python 3",
   "language": "python",
   "name": "python3"
  },
  "language_info": {
   "codemirror_mode": {
    "name": "ipython",
    "version": 3
   },
   "file_extension": ".py",
   "mimetype": "text/x-python",
   "name": "python",
   "nbconvert_exporter": "python",
   "pygments_lexer": "ipython3",
   "version": "3.8.8"
  }
 },
 "nbformat": 4,
 "nbformat_minor": 5
}
