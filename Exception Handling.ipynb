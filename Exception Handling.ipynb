{
 "cells": [
  {
   "cell_type": "code",
   "execution_count": null,
   "id": "91cef75d",
   "metadata": {},
   "outputs": [],
   "source": [
    "#10/0\n"
   ]
  },
  {
   "cell_type": "code",
   "execution_count": null,
   "id": "80c7bfed",
   "metadata": {},
   "outputs": [],
   "source": [
    "try:\n",
    "    a=b\n",
    "except:\n",
    "    print(\"we have an error\")\n",
    "    "
   ]
  },
  {
   "cell_type": "code",
   "execution_count": null,
   "id": "3d7eda3a",
   "metadata": {},
   "outputs": [],
   "source": [
    "try:\n",
    "    a=b\n",
    "except Exception as ex:\n",
    "    print(ex)"
   ]
  },
  {
   "cell_type": "code",
   "execution_count": null,
   "id": "7a5d47fe",
   "metadata": {},
   "outputs": [],
   "source": [
    "a=2\n",
    "b=\"t\"\n",
    "c=a+b"
   ]
  },
  {
   "cell_type": "code",
   "execution_count": null,
   "id": "938ac582",
   "metadata": {},
   "outputs": [],
   "source": [
    "try:\n",
    "    a=2\n",
    "    b=\"t\"\n",
    "    c=a+b\n",
    "except Exception as ex:\n",
    "    print(ex)"
   ]
  },
  {
   "cell_type": "code",
   "execution_count": 1,
   "id": "25e3f6e6",
   "metadata": {},
   "outputs": [
    {
     "name": "stdout",
     "output_type": "stream",
     "text": [
      "Please define the variable\n"
     ]
    }
   ],
   "source": [
    "try:\n",
    "    a=b\n",
    "except NameError as er1:\n",
    "    print(\"Please define the variable\")\n",
    "except Exception as ex:\n",
    "    print(ex)"
   ]
  },
  {
   "cell_type": "code",
   "execution_count": 2,
   "id": "e27d12d3",
   "metadata": {},
   "outputs": [
    {
     "name": "stdout",
     "output_type": "stream",
     "text": [
      "make same datatypes\n"
     ]
    }
   ],
   "source": [
    "try:\n",
    "    a=2\n",
    "    b=\"t\"\n",
    "    c=a+b\n",
    "except NameError as er1:\n",
    "    print(\"Please define your variable\")\n",
    "except TypeError as er2:\n",
    "    print(\"make same datatypes\")\n",
    "except Exception as ex:\n",
    "    print(ex)"
   ]
  },
  {
   "cell_type": "code",
   "execution_count": null,
   "id": "bad49912",
   "metadata": {},
   "outputs": [],
   "source": [
    "try:\n",
    "    a=int(input(\"a= \"))\n",
    "    b=int(input(\"b= \"))\n",
    "    c = a/b\n",
    "except ZeroDivisionError as er1:\n",
    "    print(\"You have entered b as 0\")\n",
    "except Exception as ex:\n",
    "    print(ex)"
   ]
  },
  {
   "cell_type": "code",
   "execution_count": null,
   "id": "d0ee98a2",
   "metadata": {},
   "outputs": [],
   "source": [
    "try:\n",
    "    a=5\n",
    "    b=\"t\"\n",
    "    c=a+b\n",
    "except Exception as ex:\n",
    "    print(ex)"
   ]
  },
  {
   "cell_type": "code",
   "execution_count": null,
   "id": "82d2d030",
   "metadata": {},
   "outputs": [],
   "source": [
    "try:\n",
    "    a=5\n",
    "    b=\"t\"\n",
    "    c=a+b\n",
    "except TypeError as er1:\n",
    "    print(\"You have entered b as string\")\n",
    "except Exception as ex:\n",
    "    print(ex)"
   ]
  },
  {
   "cell_type": "code",
   "execution_count": null,
   "id": "5be4acb5",
   "metadata": {},
   "outputs": [],
   "source": [
    "try:\n",
    "    a=5\n",
    "    a=b\n",
    "    c=a+b\n",
    "except TypeError as er1:\n",
    "    print(\"You have entered b as string\")\n",
    "\n",
    "except Exception as ex:\n",
    "    print(ex)"
   ]
  },
  {
   "cell_type": "code",
   "execution_count": 4,
   "id": "52f8832e",
   "metadata": {},
   "outputs": [
    {
     "data": {
      "text/plain": [
       "10"
      ]
     },
     "execution_count": 4,
     "metadata": {},
     "output_type": "execute_result"
    }
   ],
   "source": [
    "#lambda function\n",
    "command = lambda a: a+6\n",
    "command(4)"
   ]
  },
  {
   "cell_type": "code",
   "execution_count": 7,
   "id": "8366264e",
   "metadata": {},
   "outputs": [],
   "source": [
    "def comm(n):\n",
    "    return n + 6"
   ]
  },
  {
   "cell_type": "code",
   "execution_count": 8,
   "id": "cc7d9921",
   "metadata": {},
   "outputs": [
    {
     "data": {
      "text/plain": [
       "10"
      ]
     },
     "execution_count": 8,
     "metadata": {},
     "output_type": "execute_result"
    }
   ],
   "source": [
    "comm(4)"
   ]
  },
  {
   "cell_type": "code",
   "execution_count": 9,
   "id": "46177b48",
   "metadata": {},
   "outputs": [],
   "source": [
    "def command(n):\n",
    "    return command + 6"
   ]
  },
  {
   "cell_type": "code",
   "execution_count": null,
   "id": "2959e82c",
   "metadata": {},
   "outputs": [],
   "source": []
  }
 ],
 "metadata": {
  "kernelspec": {
   "display_name": "Python 3",
   "language": "python",
   "name": "python3"
  },
  "language_info": {
   "codemirror_mode": {
    "name": "ipython",
    "version": 3
   },
   "file_extension": ".py",
   "mimetype": "text/x-python",
   "name": "python",
   "nbconvert_exporter": "python",
   "pygments_lexer": "ipython3",
   "version": "3.8.8"
  }
 },
 "nbformat": 4,
 "nbformat_minor": 5
}
