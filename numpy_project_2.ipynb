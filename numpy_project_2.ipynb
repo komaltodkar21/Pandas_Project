{
 "cells": [
  {
   "cell_type": "code",
   "execution_count": 1,
   "id": "1fd329b9",
   "metadata": {},
   "outputs": [
    {
     "name": "stdout",
     "output_type": "stream",
     "text": [
      "<class 'numpy.ndarray'>\n"
     ]
    }
   ],
   "source": [
    "import numpy as np\n",
    "\n",
    "an_array = np.array([3,33,333])   #create a rank 1 array  #vector form\n",
    "#[] (single square bracket) is a vector i.e. having only 1 quantity\n",
    "print(type(an_array))         #The type of an ndarray is: \"<class 'numpy.ndarray'>\""
   ]
  },
  {
   "cell_type": "code",
   "execution_count": 2,
   "id": "0fcc82f9",
   "metadata": {},
   "outputs": [
    {
     "name": "stdout",
     "output_type": "stream",
     "text": [
      "[  3  33 333]\n"
     ]
    }
   ],
   "source": [
    "print(an_array)"
   ]
  },
  {
   "cell_type": "code",
   "execution_count": 3,
   "id": "6369afe2",
   "metadata": {},
   "outputs": [
    {
     "name": "stdout",
     "output_type": "stream",
     "text": [
      "(3,)\n"
     ]
    }
   ],
   "source": [
    "# test the shape of the array we just created, it should have just one dimension.\n",
    "print(an_array.shape)  #vector or single dimension"
   ]
  },
  {
   "cell_type": "code",
   "execution_count": 4,
   "id": "97dfbe12",
   "metadata": {},
   "outputs": [
    {
     "name": "stdout",
     "output_type": "stream",
     "text": [
      "3 33 333\n"
     ]
    }
   ],
   "source": [
    "# because this is a 1-rank array, we need only one index to access each element.\n",
    "print(an_array[0], an_array[1], an_array[2])"
   ]
  },
  {
   "cell_type": "code",
   "execution_count": 5,
   "id": "3dc93362",
   "metadata": {},
   "outputs": [
    {
     "name": "stdout",
     "output_type": "stream",
     "text": [
      "[888  33 333]\n"
     ]
    }
   ],
   "source": [
    "an_array[0] = 888   # ndarrays are mutable, here we change an element of array.\n",
    "print(an_array)"
   ]
  },
  {
   "cell_type": "code",
   "execution_count": 6,
   "id": "049a9373",
   "metadata": {},
   "outputs": [
    {
     "name": "stdout",
     "output_type": "stream",
     "text": [
      "(1, 3)\n"
     ]
    }
   ],
   "source": [
    "#[[]] (double square bracket) is a matrix i.e. rows and columns\n",
    "an_array2 = np.array([[3,33,333]])\n",
    "print(an_array2.shape)"
   ]
  },
  {
   "cell_type": "code",
   "execution_count": 7,
   "id": "b459eed2",
   "metadata": {},
   "outputs": [
    {
     "name": "stdout",
     "output_type": "stream",
     "text": [
      "[[11 12 13]\n",
      " [21 22 23]]\n",
      "The shape is 2 rows, 3 columns:  (2, 3)\n",
      "Accessing elements [0,0], [0,1], and [1,0] of the ndarray:  11 ,  12 ,  21\n"
     ]
    }
   ],
   "source": [
    "another = np.array([[11,12,13],[21,22,23]])  # create a rank 2 array\n",
    "print(another)   # print the array\n",
    "print(\"The shape is 2 rows, 3 columns: \", another.shape)  # rows x columns\n",
    "print(\"Accessing elements [0,0], [0,1], and [1,0] of the ndarray: \", another[0,0], \", \",another[0,1],\", \",another[1,0])"
   ]
  },
  {
   "cell_type": "code",
   "execution_count": 8,
   "id": "fcbc2ae5",
   "metadata": {},
   "outputs": [
    {
     "name": "stdout",
     "output_type": "stream",
     "text": [
      "[[0. 0.]\n",
      " [0. 0.]]\n"
     ]
    }
   ],
   "source": [
    "# create a 2x2 array of zeros\n",
    "ex1 = np.zeros((2,2))\n",
    "print(ex1)"
   ]
  },
  {
   "cell_type": "code",
   "execution_count": 9,
   "id": "b3e105c4",
   "metadata": {},
   "outputs": [
    {
     "name": "stdout",
     "output_type": "stream",
     "text": [
      "[[9. 9. 9.]\n",
      " [9. 9. 9.]\n",
      " [9. 9. 9.]]\n"
     ]
    }
   ],
   "source": [
    "# create a 2x2 array filled with 9.0\n",
    "ex2 = np.full((3,3), 9.0)\n",
    "print(ex2)"
   ]
  },
  {
   "cell_type": "code",
   "execution_count": 10,
   "id": "4ebf7a41",
   "metadata": {},
   "outputs": [
    {
     "name": "stdout",
     "output_type": "stream",
     "text": [
      "[[1. 0.]\n",
      " [0. 1.]]\n"
     ]
    }
   ],
   "source": [
    "#create a 2x2 matrix with diagonal 1s and the others 0\n",
    "ex3 = np.eye(2,2)\n",
    "print(ex3)"
   ]
  },
  {
   "cell_type": "code",
   "execution_count": 11,
   "id": "62a1ec00",
   "metadata": {},
   "outputs": [
    {
     "name": "stdout",
     "output_type": "stream",
     "text": [
      "[[1.]\n",
      " [1.]]\n"
     ]
    }
   ],
   "source": [
    "# create an array of ones\n",
    "ex4 = np.ones((2,1))\n",
    "print(ex4)"
   ]
  },
  {
   "cell_type": "code",
   "execution_count": 12,
   "id": "dfdc0def",
   "metadata": {},
   "outputs": [
    {
     "name": "stdout",
     "output_type": "stream",
     "text": [
      "(2, 1)\n",
      "\n",
      "1.0\n"
     ]
    }
   ],
   "source": [
    "# notice that the above ndarray (ex4) is actually rank 2, it is a 2x1 array\n",
    "print(ex4.shape)\n",
    "\n",
    "#which means we need to use two indexes to access an element\n",
    "print()\n",
    "print(ex4[0,0])"
   ]
  },
  {
   "cell_type": "code",
   "execution_count": 13,
   "id": "8a9015fd",
   "metadata": {},
   "outputs": [
    {
     "name": "stdout",
     "output_type": "stream",
     "text": [
      "[[0.11860159 0.8927432  0.01931632]\n",
      " [0.06000497 0.44253063 0.79126771]]\n"
     ]
    }
   ],
   "source": [
    "# create an array of random floats between 0 & 1\n",
    "ex5 = np.random.random((2,3))\n",
    "print(ex5)"
   ]
  },
  {
   "cell_type": "markdown",
   "id": "ea28af46",
   "metadata": {},
   "source": [
    "# Slicing"
   ]
  },
  {
   "cell_type": "code",
   "execution_count": 14,
   "id": "a41350e0",
   "metadata": {},
   "outputs": [
    {
     "name": "stdout",
     "output_type": "stream",
     "text": [
      "[[11 12 13 14]\n",
      " [21 22 23 24]\n",
      " [31 32 33 34]]\n"
     ]
    }
   ],
   "source": [
    "import numpy as np\n",
    "\n",
    "# Rank 2 array of shape (3,4)\n",
    "an_array = np.array([[11,12,13,14], [21,22,23,24], [31,32,33,34]])\n",
    "print(an_array)"
   ]
  },
  {
   "cell_type": "code",
   "execution_count": 15,
   "id": "3bc6e40a",
   "metadata": {},
   "outputs": [
    {
     "name": "stdout",
     "output_type": "stream",
     "text": [
      "[[12 13]\n",
      " [22 23]]\n"
     ]
    }
   ],
   "source": [
    "a_slice = an_array[0:2, 1:3]  #[rows range - select 0,1 rows , columns range - select 1,2 columns]\n",
    "# select 0 and 1 rows, 1 and 2 columns\n",
    "print(a_slice)"
   ]
  },
  {
   "cell_type": "code",
   "execution_count": 16,
   "id": "50033122",
   "metadata": {},
   "outputs": [
    {
     "name": "stdout",
     "output_type": "stream",
     "text": [
      "Before: 12\n",
      "1000\n",
      "[[1000   13]\n",
      " [  22   23]]\n"
     ]
    }
   ],
   "source": [
    "print(\"Before:\", an_array[0,1])  #inspect the element at 0,1\n",
    "a_slice[0,0] = 1000   # a_slice[0,0] is the same piece of data as an_array[0,1]\n",
    "print(a_slice[0,0])\n",
    "print(a_slice)"
   ]
  },
  {
   "cell_type": "markdown",
   "id": "b0204b39",
   "metadata": {},
   "source": [
    "We are making changes in a_slice and printing vlaues of an_array we can see that there has been changes in an_array also"
   ]
  },
  {
   "cell_type": "code",
   "execution_count": 17,
   "id": "7982f3bc",
   "metadata": {},
   "outputs": [
    {
     "name": "stdout",
     "output_type": "stream",
     "text": [
      "After: 1000\n",
      "[[  11 1000   13   14]\n",
      " [  21   22   23   24]\n",
      " [  31   32   33   34]]\n"
     ]
    }
   ],
   "source": [
    "print(\"After:\", an_array[0,1])\n",
    "print(an_array)"
   ]
  },
  {
   "cell_type": "markdown",
   "id": "27b38d0f",
   "metadata": {},
   "source": [
    "# Rank "
   ]
  },
  {
   "cell_type": "markdown",
   "id": "9751397e",
   "metadata": {},
   "source": [
    "(Important)"
   ]
  },
  {
   "cell_type": "code",
   "execution_count": 18,
   "id": "f2cce5a5",
   "metadata": {},
   "outputs": [
    {
     "name": "stdout",
     "output_type": "stream",
     "text": [
      "[21 22 23 24] (4,)\n"
     ]
    }
   ],
   "source": [
    "#Using both integer indexing & slicing generates an array of lower rank\n",
    "row_rank1 = an_array[1, :]   # Rank 1 view #[rows, columns]\n",
    "print(row_rank1, row_rank1.shape) # notice only a single [] (vector)"
   ]
  },
  {
   "cell_type": "code",
   "execution_count": 19,
   "id": "1cc6a349",
   "metadata": {},
   "outputs": [
    {
     "name": "stdout",
     "output_type": "stream",
     "text": [
      "[[21 22 23 24]] (1, 4)\n"
     ]
    }
   ],
   "source": [
    "# Slicing alone: generates an array of the same rank as the an_array\n",
    "row_rank2 = an_array[1:2, :]   # Rank 2 view\n",
    "print(row_rank2, row_rank2.shape)   # notice the [[]] (matrix)"
   ]
  },
  {
   "cell_type": "code",
   "execution_count": 20,
   "id": "95b8e91b",
   "metadata": {},
   "outputs": [
    {
     "name": "stdout",
     "output_type": "stream",
     "text": [
      "[1000   22   32] (3,)\n"
     ]
    }
   ],
   "source": [
    "column_rank1 = an_array[:, 1]   # Rank 1 view  #[rows, columns]\n",
    "print(column_rank1, column_rank1.shape)"
   ]
  },
  {
   "cell_type": "code",
   "execution_count": 21,
   "id": "cb9bd074",
   "metadata": {},
   "outputs": [
    {
     "name": "stdout",
     "output_type": "stream",
     "text": [
      "[[1000]\n",
      " [  22]\n",
      " [  32]] (3, 1)\n"
     ]
    }
   ],
   "source": [
    "column_rank2 = an_array[:, 1:2]   # Rank 2 view\n",
    "print(column_rank2, column_rank2.shape)"
   ]
  },
  {
   "cell_type": "markdown",
   "id": "bc79fe75",
   "metadata": {},
   "source": [
    "# Indices"
   ]
  },
  {
   "cell_type": "code",
   "execution_count": 22,
   "id": "6cf8d0be",
   "metadata": {},
   "outputs": [
    {
     "name": "stdout",
     "output_type": "stream",
     "text": [
      "Original Array:\n",
      "[[11 12 13]\n",
      " [21 12 23]\n",
      " [31 32 33]\n",
      " [41 42 43]]\n"
     ]
    }
   ],
   "source": [
    "# Create a new array\n",
    "an_array = np.array([[11,12,13],[21,12,23],[31,32,33],[41,42,43]])\n",
    "\n",
    "print('Original Array:')\n",
    "print(an_array)"
   ]
  },
  {
   "cell_type": "code",
   "execution_count": 23,
   "id": "90bc52a0",
   "metadata": {},
   "outputs": [
    {
     "name": "stdout",
     "output_type": "stream",
     "text": [
      "\n",
      "Col indices picked :  [0 1 2 0]\n"
     ]
    }
   ],
   "source": [
    "# Create an array of indices\n",
    "col_indices = np.array([0, 1, 2, 0])\n",
    "print('\\nCol indices picked : ', col_indices)"
   ]
  },
  {
   "cell_type": "code",
   "execution_count": 24,
   "id": "05c8e445",
   "metadata": {},
   "outputs": [
    {
     "name": "stdout",
     "output_type": "stream",
     "text": [
      "\n",
      "Rows indices picked :  [0 1 2 3]\n"
     ]
    }
   ],
   "source": [
    "row_indices = np.arange(4)  # arange will select 0, 1, 2, 3 \n",
    "print('\\nRows indices picked : ', row_indices)"
   ]
  },
  {
   "cell_type": "code",
   "execution_count": 118,
   "id": "99045c33",
   "metadata": {},
   "outputs": [
    {
     "name": "stdout",
     "output_type": "stream",
     "text": [
      "\n",
      "Rows indices picked :  [0 1 2 3]\n"
     ]
    }
   ],
   "source": [
    "row_indices = np.arange(4)  # arange will select 0, 1, 2, 3 \n",
    "print('\\nRows indices picked : ', row_indices)"
   ]
  },
  {
   "cell_type": "code",
   "execution_count": 25,
   "id": "405a3614",
   "metadata": {},
   "outputs": [
    {
     "name": "stdout",
     "output_type": "stream",
     "text": [
      "0 , 0\n",
      "1 , 1\n",
      "2 , 2\n",
      "3 , 0\n"
     ]
    },
    {
     "data": {
      "text/plain": [
       "'\\nfor i in row_indices:\\nfor j in col_indices:\\n'"
      ]
     },
     "execution_count": 25,
     "metadata": {},
     "output_type": "execute_result"
    }
   ],
   "source": [
    "# Examine the pairings of row_indices and col_indices. These are the elements\n",
    "for i,j in zip(row_indices, col_indices):\n",
    "    print(i, \",\",j)\n",
    "'''\n",
    "for i in row_indices:\n",
    "for j in col_indices:\n",
    "'''"
   ]
  },
  {
   "cell_type": "code",
   "execution_count": 26,
   "id": "096be97a",
   "metadata": {},
   "outputs": [
    {
     "name": "stdout",
     "output_type": "stream",
     "text": [
      "Values in the array at those indices:  [11 12 33 41]\n"
     ]
    }
   ],
   "source": [
    "# Select one element from each row\n",
    "print('Values in the array at those indices: ', an_array[row_indices, col_indices])\n",
    "#an_array[0, 0], an_array[1,1],an_array[2, 2], an_array[3,0] = an_array[row_indices, col_indices]"
   ]
  },
  {
   "cell_type": "code",
   "execution_count": 27,
   "id": "e1f4c736",
   "metadata": {},
   "outputs": [
    {
     "name": "stdout",
     "output_type": "stream",
     "text": [
      "\n",
      "Changed Array:\n",
      "[[100011     12     13]\n",
      " [    21 100012     23]\n",
      " [    31     32 100033]\n",
      " [100041     42     43]]\n"
     ]
    }
   ],
   "source": [
    "# Change one element from each row using the indices selected\n",
    "an_array[row_indices, col_indices] += 100000 # a = a +10 is same as a+=10\n",
    "\n",
    "print('\\nChanged Array:')\n",
    "print(an_array)"
   ]
  },
  {
   "cell_type": "markdown",
   "id": "2ddd72ad",
   "metadata": {},
   "source": [
    "# Boolean Indexing"
   ]
  },
  {
   "cell_type": "code",
   "execution_count": 28,
   "id": "62eb683a",
   "metadata": {},
   "outputs": [
    {
     "name": "stdout",
     "output_type": "stream",
     "text": [
      "[[11 12]\n",
      " [21 22]\n",
      " [31 32]]\n"
     ]
    }
   ],
   "source": [
    "# create a 3x2 array\n",
    "an_array = np.array([[11,12],[21,22],[31,32]])\n",
    "print(an_array)"
   ]
  },
  {
   "cell_type": "code",
   "execution_count": 29,
   "id": "71bf5ea2",
   "metadata": {},
   "outputs": [
    {
     "data": {
      "text/plain": [
       "array([[False, False],\n",
       "       [ True,  True],\n",
       "       [ True,  True]])"
      ]
     },
     "execution_count": 29,
     "metadata": {},
     "output_type": "execute_result"
    }
   ],
   "source": [
    "# create a filter which will be boolean values for whether each element meets \n",
    "filter = (an_array >15)\n",
    "filter"
   ]
  },
  {
   "cell_type": "code",
   "execution_count": 30,
   "id": "6be48a44",
   "metadata": {},
   "outputs": [
    {
     "data": {
      "text/plain": [
       "array([[ True,  True],\n",
       "       [False, False],\n",
       "       [False, False]])"
      ]
     },
     "execution_count": 30,
     "metadata": {},
     "output_type": "execute_result"
    }
   ],
   "source": [
    "greater = (an_array <20)\n",
    "greater"
   ]
  },
  {
   "cell_type": "code",
   "execution_count": 31,
   "id": "76aacf46",
   "metadata": {},
   "outputs": [
    {
     "name": "stdout",
     "output_type": "stream",
     "text": [
      "[21 22 31 32]\n"
     ]
    }
   ],
   "source": [
    "# We can now select just those elements which meet that criteria\n",
    "print(an_array[filter])  #values that are greater than 15."
   ]
  },
  {
   "cell_type": "code",
   "execution_count": 32,
   "id": "a85cd515",
   "metadata": {},
   "outputs": [
    {
     "name": "stdout",
     "output_type": "stream",
     "text": [
      "[21 22 31 32]\n"
     ]
    }
   ],
   "source": [
    "# For short, we could have just used the approach below without the need for \n",
    "print(an_array[an_array > 15])"
   ]
  },
  {
   "cell_type": "code",
   "execution_count": 33,
   "id": "f2ee009f",
   "metadata": {},
   "outputs": [
    {
     "name": "stdout",
     "output_type": "stream",
     "text": [
      "\n",
      "Changed Array:\n",
      "[[ 11 112]\n",
      " [ 21 122]\n",
      " [ 31 132]]\n"
     ]
    }
   ],
   "source": [
    "an_array[an_array % 2 == 0] += 100  # a+=100 is same as a=a+100\n",
    "\n",
    "print('\\nChanged Array:')\n",
    "print(an_array)"
   ]
  },
  {
   "cell_type": "markdown",
   "id": "56c9401c",
   "metadata": {},
   "source": [
    "# Slicing"
   ]
  },
  {
   "cell_type": "code",
   "execution_count": 34,
   "id": "dbb07eff",
   "metadata": {},
   "outputs": [
    {
     "name": "stdout",
     "output_type": "stream",
     "text": [
      "6\n",
      "7\n"
     ]
    }
   ],
   "source": [
    "# list slicing\n",
    "a=[2,3,6,7,8,9]\n",
    "for i in range(2,4,1):\n",
    "    print(a[i])"
   ]
  },
  {
   "cell_type": "code",
   "execution_count": 35,
   "id": "3306fa8b",
   "metadata": {},
   "outputs": [
    {
     "name": "stdout",
     "output_type": "stream",
     "text": [
      "[6, 7]\n"
     ]
    }
   ],
   "source": [
    "a=[2,3,6,7,8,9]\n",
    "print(a[2:4])"
   ]
  },
  {
   "cell_type": "code",
   "execution_count": 36,
   "id": "b8ceba61",
   "metadata": {},
   "outputs": [
    {
     "name": "stdout",
     "output_type": "stream",
     "text": [
      "[77, 89]\n"
     ]
    }
   ],
   "source": [
    "b=[9,18,26,45,77,89]\n",
    "print(b[4:])"
   ]
  },
  {
   "cell_type": "code",
   "execution_count": 37,
   "id": "a5bacef8",
   "metadata": {},
   "outputs": [
    {
     "name": "stdout",
     "output_type": "stream",
     "text": [
      "[[11 12 13 14]\n",
      " [21 22 23 24]\n",
      " [31 32 33 34]]\n"
     ]
    }
   ],
   "source": [
    "# array slicing\n",
    "an_array = np.array([[11,12,13,14], [21,22,23,24], [31,32,33,34]])\n",
    "print(an_array)"
   ]
  },
  {
   "cell_type": "code",
   "execution_count": 38,
   "id": "a438bb25",
   "metadata": {},
   "outputs": [
    {
     "name": "stdout",
     "output_type": "stream",
     "text": [
      "[[13 14]\n",
      " [23 24]]\n"
     ]
    }
   ],
   "source": [
    "a_slice = an_array[0:2, 2:] \n",
    "print(a_slice)"
   ]
  },
  {
   "cell_type": "code",
   "execution_count": 39,
   "id": "8bac5a91",
   "metadata": {},
   "outputs": [
    {
     "name": "stdout",
     "output_type": "stream",
     "text": [
      "[[11 12 13 14]\n",
      " [21 22 23 24]\n",
      " [31 32 33 34]]\n"
     ]
    }
   ],
   "source": [
    "a = np.array([[11,12,13,14], [21,22,23,24], [31,32,33,34]])\n",
    "print(a)"
   ]
  },
  {
   "cell_type": "code",
   "execution_count": 40,
   "id": "a3af3785",
   "metadata": {},
   "outputs": [
    {
     "name": "stdout",
     "output_type": "stream",
     "text": [
      "[[12 13]\n",
      " [22 23]]\n"
     ]
    }
   ],
   "source": [
    "s = a[0:2, 1:3] # [0th and 1st rows, 1st and 2nd columns]\n",
    "print(s)"
   ]
  },
  {
   "cell_type": "code",
   "execution_count": 41,
   "id": "3fe9a17f",
   "metadata": {},
   "outputs": [
    {
     "name": "stdout",
     "output_type": "stream",
     "text": [
      "[[13 14]\n",
      " [23 24]]\n"
     ]
    }
   ],
   "source": [
    "s = a[0:2, 2:] # [0th and 1st rows, 2nd till end columns]\n",
    "print(s)"
   ]
  },
  {
   "cell_type": "code",
   "execution_count": 42,
   "id": "e3d89372",
   "metadata": {},
   "outputs": [
    {
     "name": "stdout",
     "output_type": "stream",
     "text": [
      "[[23 24]\n",
      " [33 34]]\n"
     ]
    }
   ],
   "source": [
    "s = a[1:, 2:] # [1st till end rows, 2nd till end columns]\n",
    "print(s)"
   ]
  },
  {
   "cell_type": "markdown",
   "id": "fcb32f9a",
   "metadata": {},
   "source": [
    "# Data types"
   ]
  },
  {
   "cell_type": "code",
   "execution_count": 43,
   "id": "ad028f42",
   "metadata": {},
   "outputs": [
    {
     "name": "stdout",
     "output_type": "stream",
     "text": [
      "int32\n"
     ]
    }
   ],
   "source": [
    "ex1 = np.array([11, 12]) # Python assigns the data type\n",
    "print(ex1.dtype)"
   ]
  },
  {
   "cell_type": "code",
   "execution_count": 44,
   "id": "d3cb8740",
   "metadata": {},
   "outputs": [
    {
     "name": "stdout",
     "output_type": "stream",
     "text": [
      "float64\n"
     ]
    }
   ],
   "source": [
    "ex2 = np.array([11.0, 12.0]) # Python assigns the data type\n",
    "print(ex2.dtype)"
   ]
  },
  {
   "cell_type": "code",
   "execution_count": 45,
   "id": "cc0d4498",
   "metadata": {},
   "outputs": [
    {
     "name": "stdout",
     "output_type": "stream",
     "text": [
      "int64\n"
     ]
    }
   ],
   "source": [
    "ex3 = np.array([11, 21], dtype=np.int64)  # you can also tell Python the data type\n",
    "print(ex3.dtype)"
   ]
  },
  {
   "cell_type": "code",
   "execution_count": 46,
   "id": "c0f30a86",
   "metadata": {},
   "outputs": [
    {
     "name": "stdout",
     "output_type": "stream",
     "text": [
      "int64\n",
      "\n",
      "[11 12]\n"
     ]
    }
   ],
   "source": [
    "# you can use this to force floats into integers (using floor function)\n",
    "ex4 = np.array([11.1,12.7], dtype=np.int64)\n",
    "print(ex4.dtype)\n",
    "print()\n",
    "print(ex4)"
   ]
  },
  {
   "cell_type": "code",
   "execution_count": 47,
   "id": "b938b99b",
   "metadata": {},
   "outputs": [
    {
     "name": "stdout",
     "output_type": "stream",
     "text": [
      "float64\n",
      "\n",
      "[11.1 12.7]\n"
     ]
    }
   ],
   "source": [
    "ex5 = np.array([11.1,12.7], dtype=np.float64)\n",
    "print(ex5.dtype)\n",
    "print()\n",
    "print(ex5)"
   ]
  },
  {
   "cell_type": "markdown",
   "id": "4afeb3b0",
   "metadata": {},
   "source": [
    "# Arithmetic Array Operations"
   ]
  },
  {
   "cell_type": "code",
   "execution_count": 48,
   "id": "392700ed",
   "metadata": {},
   "outputs": [
    {
     "name": "stdout",
     "output_type": "stream",
     "text": [
      "[[111 112]\n",
      " [121 122]]\n",
      "\n",
      "[[211.1 212.1]\n",
      " [221.1 222.1]]\n"
     ]
    },
    {
     "name": "stderr",
     "output_type": "stream",
     "text": [
      "<ipython-input-48-2d342708cfa8>:2: DeprecationWarning: `np.int` is a deprecated alias for the builtin `int`. To silence this warning, use `int` by itself. Doing this will not modify any behavior and is safe. When replacing `np.int`, you may wish to use e.g. `np.int64` or `np.int32` to specify the precision. If you wish to review your current use, check the release note link for additional information.\n",
      "Deprecated in NumPy 1.20; for more details and guidance: https://numpy.org/devdocs/release/1.20.0-notes.html#deprecations\n",
      "  x = np.array([[111,112],[121,122]],dtype=np.int)\n"
     ]
    }
   ],
   "source": [
    "import numpy as np\n",
    "x = np.array([[111,112],[121,122]],dtype=np.int)\n",
    "y = np.array([[211.1,212.1],[221.1,222.1]], dtype=np.float64)\n",
    "\n",
    "print(x)\n",
    "print()\n",
    "print(y)"
   ]
  },
  {
   "cell_type": "code",
   "execution_count": 49,
   "id": "809fe453",
   "metadata": {},
   "outputs": [
    {
     "name": "stdout",
     "output_type": "stream",
     "text": [
      "[[322.1 324.1]\n",
      " [342.1 344.1]]\n",
      "\n",
      "[[322.1 324.1]\n",
      " [342.1 344.1]]\n"
     ]
    }
   ],
   "source": [
    "#add\n",
    "print(x + y)   # The plus sign works\n",
    "print()\n",
    "print(np.add(x, y))  # so does the numpy function \"add\""
   ]
  },
  {
   "cell_type": "code",
   "execution_count": 50,
   "id": "bbac84d7",
   "metadata": {},
   "outputs": [
    {
     "name": "stdout",
     "output_type": "stream",
     "text": [
      "[[23432.1 23755.2]\n",
      " [26753.1 27096.2]]\n",
      "\n",
      "[[23432.1 23755.2]\n",
      " [26753.1 27096.2]]\n"
     ]
    }
   ],
   "source": [
    "#multiply\n",
    "print(x * y)   # The * sign works\n",
    "print()\n",
    "print(np.multiply(x, y))  # so does the numpy function \"multiply\""
   ]
  },
  {
   "cell_type": "code",
   "execution_count": 51,
   "id": "f955ef4e",
   "metadata": {},
   "outputs": [
    {
     "name": "stdout",
     "output_type": "stream",
     "text": [
      "[[-100.1 -100.1]\n",
      " [-100.1 -100.1]]\n",
      "\n",
      "[[-100.1 -100.1]\n",
      " [-100.1 -100.1]]\n"
     ]
    }
   ],
   "source": [
    "#substract\n",
    "print(x - y)   # The - sign works\n",
    "print()\n",
    "print(np.subtract(x, y))"
   ]
  },
  {
   "cell_type": "code",
   "execution_count": 52,
   "id": "9bc4c25b",
   "metadata": {},
   "outputs": [
    {
     "name": "stdout",
     "output_type": "stream",
     "text": [
      "[[0.52581715 0.52805281]\n",
      " [0.54726368 0.54930212]]\n",
      "\n",
      "[[0.52581715 0.52805281]\n",
      " [0.54726368 0.54930212]]\n"
     ]
    }
   ],
   "source": [
    "#division\n",
    "print(x / y)   # The / sign works\n",
    "print()\n",
    "print(np.divide(x, y))"
   ]
  },
  {
   "cell_type": "code",
   "execution_count": 53,
   "id": "ae71ef1b",
   "metadata": {},
   "outputs": [
    {
     "name": "stdout",
     "output_type": "stream",
     "text": [
      "[[10.53565375 10.58300524]\n",
      " [11.         11.04536102]]\n"
     ]
    }
   ],
   "source": [
    "# square root\n",
    "print(np.sqrt(x))"
   ]
  },
  {
   "cell_type": "code",
   "execution_count": 54,
   "id": "abc73da2",
   "metadata": {},
   "outputs": [
    {
     "name": "stdout",
     "output_type": "stream",
     "text": [
      "[[1.60948707e+48 4.37503945e+48]\n",
      " [3.54513118e+52 9.63666567e+52]]\n"
     ]
    }
   ],
   "source": [
    "# exponent (e ** x)\n",
    "print(np.exp(x))"
   ]
  },
  {
   "cell_type": "markdown",
   "id": "c16a3d31",
   "metadata": {},
   "source": [
    "# Mean & Median"
   ]
  },
  {
   "cell_type": "code",
   "execution_count": 55,
   "id": "d39f6459",
   "metadata": {},
   "outputs": [
    {
     "name": "stdout",
     "output_type": "stream",
     "text": [
      "[[ -0.40987906  -2.99679842   6.63913074   2.80001548   7.79157318]\n",
      " [ -7.32647574   1.12245514 -14.35051959   1.86488298   6.4152644 ]]\n"
     ]
    }
   ],
   "source": [
    "# setup a random 2 X 5 matrix\n",
    "arr = 10 * np.random.randn(2,5) #random.random or random.randn or random.randint\n",
    "print(arr)"
   ]
  },
  {
   "cell_type": "code",
   "execution_count": 56,
   "id": "d20f9c5a",
   "metadata": {},
   "outputs": [
    {
     "name": "stdout",
     "output_type": "stream",
     "text": [
      "0.15496491105184135\n"
     ]
    }
   ],
   "source": [
    "# compute the mean for all elements\n",
    "print(arr.mean())"
   ]
  },
  {
   "cell_type": "code",
   "execution_count": 57,
   "id": "0c723de2",
   "metadata": {},
   "outputs": [
    {
     "name": "stdout",
     "output_type": "stream",
     "text": [
      "[ 2.76480838 -2.45487856]\n"
     ]
    }
   ],
   "source": [
    "# compute the means by row\n",
    "print(arr.mean(axis = 1))"
   ]
  },
  {
   "cell_type": "code",
   "execution_count": 58,
   "id": "fed9b042",
   "metadata": {},
   "outputs": [
    {
     "name": "stdout",
     "output_type": "stream",
     "text": [
      "[-3.8681774  -0.93717164 -3.85569443  2.33244923  7.10341879]\n"
     ]
    }
   ],
   "source": [
    "# compute the means by column\n",
    "print(arr.mean(axis = 0))"
   ]
  },
  {
   "cell_type": "code",
   "execution_count": 59,
   "id": "8f51ccd9",
   "metadata": {},
   "outputs": [
    {
     "name": "stdout",
     "output_type": "stream",
     "text": [
      "1.5496491105184136\n"
     ]
    }
   ],
   "source": [
    "# sum all the elements\n",
    "print(arr.sum())"
   ]
  },
  {
   "cell_type": "code",
   "execution_count": 60,
   "id": "2d844336",
   "metadata": {},
   "outputs": [
    {
     "name": "stdout",
     "output_type": "stream",
     "text": [
      "[2.80001548 1.12245514]\n"
     ]
    }
   ],
   "source": [
    "# compute the medians\n",
    "print(np.median(arr, axis = 1)) # by rows 1st and 2nd also"
   ]
  },
  {
   "cell_type": "code",
   "execution_count": 61,
   "id": "544ca441",
   "metadata": {},
   "outputs": [
    {
     "name": "stdout",
     "output_type": "stream",
     "text": [
      "[-3.8681774  -0.93717164 -3.85569443  2.33244923  7.10341879]\n"
     ]
    }
   ],
   "source": [
    "# compute the medians\n",
    "print(np.median(arr, axis = 0)) # by columns"
   ]
  },
  {
   "cell_type": "markdown",
   "id": "deade772",
   "metadata": {},
   "source": [
    "# Sorting"
   ]
  },
  {
   "cell_type": "code",
   "execution_count": 62,
   "id": "cdf011ef",
   "metadata": {},
   "outputs": [
    {
     "name": "stdout",
     "output_type": "stream",
     "text": [
      "[ 0.4859888   0.43510783 -0.53827252  0.72474275  0.52878148 -2.48974634\n",
      " -0.9371717  -0.44642325 -1.134916   -0.1612471 ]\n"
     ]
    }
   ],
   "source": [
    "# create a 10 element array of randoms\n",
    "unsorted = np.random.randn(10)\n",
    "print(unsorted)"
   ]
  },
  {
   "cell_type": "code",
   "execution_count": 63,
   "id": "3c22b487",
   "metadata": {},
   "outputs": [
    {
     "name": "stdout",
     "output_type": "stream",
     "text": [
      "[-2.48974634 -1.134916   -0.9371717  -0.53827252 -0.44642325 -0.1612471\n",
      "  0.43510783  0.4859888   0.52878148  0.72474275]\n",
      "\n",
      "[ 0.4859888   0.43510783 -0.53827252  0.72474275  0.52878148 -2.48974634\n",
      " -0.9371717  -0.44642325 -1.134916   -0.1612471 ]\n"
     ]
    }
   ],
   "source": [
    "# create copy and sort\n",
    "sorted = np.array(unsorted)  # store unsorted in sorted variable\n",
    "sorted.sort() # it will arrange values in ascending order i.e. sorting\n",
    "print(sorted)\n",
    "print()\n",
    "print(unsorted)"
   ]
  },
  {
   "cell_type": "code",
   "execution_count": 64,
   "id": "9b5b8a82",
   "metadata": {},
   "outputs": [
    {
     "name": "stdout",
     "output_type": "stream",
     "text": [
      "[-2.48974634 -1.134916   -0.9371717  -0.53827252 -0.44642325 -0.1612471\n",
      "  0.43510783  0.4859888   0.52878148  0.72474275]\n"
     ]
    }
   ],
   "source": [
    "# inplace sorting\n",
    "unsorted.sort()\n",
    "print(unsorted)"
   ]
  },
  {
   "cell_type": "markdown",
   "id": "a499f264",
   "metadata": {},
   "source": [
    "# Finding unique elements"
   ]
  },
  {
   "cell_type": "code",
   "execution_count": 65,
   "id": "a37c0f5f",
   "metadata": {},
   "outputs": [
    {
     "name": "stdout",
     "output_type": "stream",
     "text": [
      "[1 2 4]\n"
     ]
    }
   ],
   "source": [
    "array = np.array([1,2,1,4,2,1,4,2])\n",
    "print(np.unique(array))  # it will return unique values"
   ]
  },
  {
   "cell_type": "markdown",
   "id": "c1986a00",
   "metadata": {},
   "source": [
    "# Set Operations"
   ]
  },
  {
   "cell_type": "code",
   "execution_count": 66,
   "id": "85ff9f51",
   "metadata": {},
   "outputs": [
    {
     "name": "stdout",
     "output_type": "stream",
     "text": [
      "['desk' 'chair' 'bulb'] ['lamp' 'bulb' 'chair']\n"
     ]
    }
   ],
   "source": [
    "s1 = np.array(['desk','chair','bulb'])\n",
    "s2 = np.array(['lamp','bulb','chair'])\n",
    "print(s1, s2)"
   ]
  },
  {
   "cell_type": "code",
   "execution_count": 67,
   "id": "b0110570",
   "metadata": {},
   "outputs": [
    {
     "name": "stdout",
     "output_type": "stream",
     "text": [
      "['bulb' 'chair']\n"
     ]
    }
   ],
   "source": [
    "print(np.intersect1d(s1, s2)) # common values between s1 and s2"
   ]
  },
  {
   "cell_type": "code",
   "execution_count": 68,
   "id": "cee0f8f9",
   "metadata": {},
   "outputs": [
    {
     "name": "stdout",
     "output_type": "stream",
     "text": [
      "['bulb' 'chair' 'desk' 'lamp']\n"
     ]
    }
   ],
   "source": [
    "print(np.union1d(s1, s2))  # common and uncommon values between s1 and s2"
   ]
  },
  {
   "cell_type": "code",
   "execution_count": 69,
   "id": "7c33295e",
   "metadata": {},
   "outputs": [
    {
     "name": "stdout",
     "output_type": "stream",
     "text": [
      "['desk']\n"
     ]
    }
   ],
   "source": [
    "print(np.setdiff1d(s1, s2))  # elements in s1 that are not in s2"
   ]
  },
  {
   "cell_type": "code",
   "execution_count": 70,
   "id": "511030d0",
   "metadata": {},
   "outputs": [
    {
     "name": "stdout",
     "output_type": "stream",
     "text": [
      "['lamp']\n"
     ]
    }
   ],
   "source": [
    "print(np.setdiff1d(s2, s1))  # elements in s2 that are not in s1"
   ]
  },
  {
   "cell_type": "code",
   "execution_count": 71,
   "id": "9501add5",
   "metadata": {},
   "outputs": [
    {
     "name": "stdout",
     "output_type": "stream",
     "text": [
      "[False  True  True]\n"
     ]
    }
   ],
   "source": [
    "print(np.in1d(s1, s2))   # which elements of s1 is also in s2"
   ]
  },
  {
   "cell_type": "code",
   "execution_count": 72,
   "id": "8fbf64b4",
   "metadata": {},
   "outputs": [
    {
     "name": "stdout",
     "output_type": "stream",
     "text": [
      "[False  True  True]\n"
     ]
    }
   ],
   "source": [
    "print(np.in1d(s2, s1))   # which elements of s2 is also in s1"
   ]
  },
  {
   "cell_type": "markdown",
   "id": "0feed523",
   "metadata": {},
   "source": [
    "# Broadcasting"
   ]
  },
  {
   "cell_type": "markdown",
   "id": "1a82ce0b",
   "metadata": {},
   "source": [
    "Addition"
   ]
  },
  {
   "cell_type": "code",
   "execution_count": 73,
   "id": "8516870f",
   "metadata": {},
   "outputs": [
    {
     "name": "stdout",
     "output_type": "stream",
     "text": [
      "[[0. 0. 0.]\n",
      " [0. 0. 0.]\n",
      " [0. 0. 0.]\n",
      " [0. 0. 0.]]\n"
     ]
    }
   ],
   "source": [
    "import numpy as np\n",
    "\n",
    "start=np.zeros((4,3))\n",
    "print(start)"
   ]
  },
  {
   "cell_type": "code",
   "execution_count": 74,
   "id": "bf696582",
   "metadata": {},
   "outputs": [
    {
     "name": "stdout",
     "output_type": "stream",
     "text": [
      "[1 0 2]\n"
     ]
    }
   ],
   "source": [
    "#create a rank 1 ndarray with 3 values\n",
    "add_rows = np.array([1, 0, 2])\n",
    "print(add_rows)"
   ]
  },
  {
   "cell_type": "code",
   "execution_count": 75,
   "id": "0c899a28",
   "metadata": {},
   "outputs": [
    {
     "name": "stdout",
     "output_type": "stream",
     "text": [
      "[[1. 0. 2.]\n",
      " [1. 0. 2.]\n",
      " [1. 0. 2.]\n",
      " [1. 0. 2.]]\n"
     ]
    }
   ],
   "source": [
    "y = start + add_rows # add to each row of 'start' using broadcasting\n",
    "print(y)"
   ]
  },
  {
   "cell_type": "code",
   "execution_count": 76,
   "id": "32607ab2",
   "metadata": {},
   "outputs": [
    {
     "name": "stdout",
     "output_type": "stream",
     "text": [
      "[ 0 12  3]\n"
     ]
    }
   ],
   "source": [
    "# craete an ndarray which is 4 x 1 to broadcast across columns\n",
    "add_cols = np.array([0,12,3]) #print(add_cols)\n",
    "add_cols =add_cols.T\n",
    "print(add_cols)"
   ]
  },
  {
   "cell_type": "code",
   "execution_count": 77,
   "id": "56c5f857",
   "metadata": {},
   "outputs": [
    {
     "name": "stdout",
     "output_type": "stream",
     "text": [
      "[[ 0. 12.  3.]\n",
      " [ 0. 12.  3.]\n",
      " [ 0. 12.  3.]\n",
      " [ 0. 12.  3.]]\n"
     ]
    }
   ],
   "source": [
    "# add to each column of 'start' using broadcasting\n",
    "y= start + add_cols\n",
    "print(y)"
   ]
  },
  {
   "cell_type": "code",
   "execution_count": 78,
   "id": "1dcd90ab",
   "metadata": {},
   "outputs": [
    {
     "name": "stdout",
     "output_type": "stream",
     "text": [
      "[[1. 1. 1.]\n",
      " [1. 1. 1.]\n",
      " [1. 1. 1.]\n",
      " [1. 1. 1.]]\n"
     ]
    }
   ],
   "source": [
    "# this will just broadcast in both dimensions\n",
    "add_scalar = np.array([1])\n",
    "print(start+add_scalar)"
   ]
  },
  {
   "cell_type": "code",
   "execution_count": 79,
   "id": "11da80f7",
   "metadata": {},
   "outputs": [
    {
     "name": "stdout",
     "output_type": "stream",
     "text": [
      "array1:\n",
      " [[2 3 4 5]\n",
      " [3 4 5 6]\n",
      " [4 5 6 6]]\n",
      "array2:\n",
      " [2 3 4 6]\n"
     ]
    }
   ],
   "source": [
    "array1 = np.array([[2,3,4,5],[3,4,5,6],[4,5,6,6]])\n",
    "array2 = np.array([2,3,4,6])\n",
    "print(\"array1:\\n\",array1)\n",
    "print(\"array2:\\n\",array2)"
   ]
  },
  {
   "cell_type": "code",
   "execution_count": 80,
   "id": "b2518062",
   "metadata": {},
   "outputs": [
    {
     "name": "stdout",
     "output_type": "stream",
     "text": [
      "addition of array1 nd array2: \n",
      "[[ 4  6  8 11]\n",
      " [ 5  7  9 12]\n",
      " [ 6  8 10 12]]\n"
     ]
    }
   ],
   "source": [
    "add = array1 + array2\n",
    "print(\"addition of array1 nd array2: \")\n",
    "print(add)"
   ]
  },
  {
   "cell_type": "markdown",
   "id": "ec8c378b",
   "metadata": {},
   "source": [
    "First setup parameters for the speed test. We'll be testing time to sum elements in an ndarray versus a list."
   ]
  },
  {
   "cell_type": "code",
   "execution_count": 81,
   "id": "bc8c313e",
   "metadata": {},
   "outputs": [],
   "source": [
    "from numpy import arange\n",
    "from timeit import Timer #n\n",
    "\n",
    "size = 1000000\n",
    "timeits = 1000"
   ]
  },
  {
   "cell_type": "code",
   "execution_count": 82,
   "id": "df759efa",
   "metadata": {},
   "outputs": [
    {
     "name": "stdout",
     "output_type": "stream",
     "text": [
      "<class 'numpy.ndarray'>\n"
     ]
    }
   ],
   "source": [
    "# create the ndarray with valtype()ues 0,1,2,...,size-1\n",
    "nd_array = arange(size) # arange(4), arange(1000000)  10L\n",
    "print(type(nd_array))"
   ]
  },
  {
   "cell_type": "code",
   "execution_count": 83,
   "id": "8cf651c8",
   "metadata": {},
   "outputs": [
    {
     "name": "stdout",
     "output_type": "stream",
     "text": [
      "Time taken by numpy ndarray: 0.000459 seconds\n"
     ]
    }
   ],
   "source": [
    "# timer expects the  operation as a parameter,\n",
    "# here we pass nd_array.sum()\n",
    "timer_numpy = Timer(\"nd_array.sum()\", \"from __main__ import nd_array\")\n",
    "\n",
    "print(\"Time taken by numpy ndarray: %f seconds\" %\n",
    "     (timer_numpy.timeit(timeits)/timeits))"
   ]
  },
  {
   "cell_type": "code",
   "execution_count": 84,
   "id": "9c1859db",
   "metadata": {},
   "outputs": [
    {
     "name": "stdout",
     "output_type": "stream",
     "text": [
      "<class 'list'>\n"
     ]
    }
   ],
   "source": [
    "# create the list with values 0,1,2,..., size-1\n",
    "a_list = list(range(size)) # range(end)  1000000\n",
    "print(type(a_list))"
   ]
  },
  {
   "cell_type": "code",
   "execution_count": 85,
   "id": "7b7224b8",
   "metadata": {},
   "outputs": [
    {
     "name": "stdout",
     "output_type": "stream",
     "text": [
      "Time taken by list: 0.023727 seconds\n"
     ]
    }
   ],
   "source": [
    "# timer expects the operation as a parameter, here we pass sum(a_list)\n",
    "timer_list = Timer(\"sum(a_list)\", \"from __main__ import a_list\")\n",
    "\n",
    "print(\"Time taken by list: %f seconds\" %\n",
    "     (timer_list.timeit(timeits)/timeits))   # llist takes more time than array."
   ]
  },
  {
   "cell_type": "markdown",
   "id": "47d3f80e",
   "metadata": {},
   "source": [
    "Binary Format:"
   ]
  },
  {
   "cell_type": "code",
   "execution_count": 86,
   "id": "f88ce8f8",
   "metadata": {},
   "outputs": [],
   "source": [
    "import numpy as np\n",
    "x = np.array([23.23, 24.24])"
   ]
  },
  {
   "cell_type": "code",
   "execution_count": 87,
   "id": "c5cac0b4",
   "metadata": {},
   "outputs": [],
   "source": [
    "np.save('an_array',x) #saves the values of an_array in x"
   ]
  },
  {
   "cell_type": "code",
   "execution_count": 88,
   "id": "d934053c",
   "metadata": {},
   "outputs": [
    {
     "data": {
      "text/plain": [
       "array([23.23, 24.24])"
      ]
     },
     "execution_count": 88,
     "metadata": {},
     "output_type": "execute_result"
    }
   ],
   "source": [
    "np.load('an_array.npy')  # to retrive saved elements from save"
   ]
  },
  {
   "cell_type": "markdown",
   "id": "9653b285",
   "metadata": {},
   "source": [
    "Dot product on Matrices and Inner Product on Vectors:"
   ]
  },
  {
   "cell_type": "code",
   "execution_count": 89,
   "id": "c43ae720",
   "metadata": {},
   "outputs": [
    {
     "name": "stdout",
     "output_type": "stream",
     "text": [
      "x2d=\n",
      " [[1 1]\n",
      " [1 1]]\n",
      "y2d=\n",
      " [[2 2]\n",
      " [2 2]]\n",
      "\n",
      "[[4 4]\n",
      " [4 4]]\n",
      "\n",
      "[[4 4]\n",
      " [4 4]]\n"
     ]
    }
   ],
   "source": [
    "# determine the dot product of two matrices\n",
    "x2d = np.array([[1,1],[1,1]])\n",
    "y2d = np.array([[2,2],[2,2]])\n",
    "print(\"x2d=\\n\",x2d)\n",
    "print(\"y2d=\\n\",y2d)\n",
    "print()\n",
    "print(x2d.dot(y2d))\n",
    "print()\n",
    "print(np.dot(x2d, y2d))"
   ]
  },
  {
   "cell_type": "code",
   "execution_count": 90,
   "id": "cbacad87",
   "metadata": {},
   "outputs": [
    {
     "name": "stdout",
     "output_type": "stream",
     "text": [
      "180\n",
      "\n",
      "180\n"
     ]
    }
   ],
   "source": [
    "# determine the inner product of two vectors \n",
    "a1d = np.array([9, 9])\n",
    "b1d = np.array([10, 10])\n",
    "\n",
    "print(a1d.dot(b1d))\n",
    "print()\n",
    "print(np.dot(a1d, b1d))"
   ]
  },
  {
   "cell_type": "code",
   "execution_count": 91,
   "id": "28f4d145",
   "metadata": {},
   "outputs": [
    {
     "name": "stdout",
     "output_type": "stream",
     "text": [
      "[18 18]\n",
      "\n",
      "[18 18]\n"
     ]
    }
   ],
   "source": [
    "# dot produce on an array and vector\n",
    "print(x2d.dot(a1d))  #([9,9]), ([[1,1],[1,1]]) [1*9, 1*9 + 1*9] = [18, 18], [18, 18]\n",
    "print()\n",
    "print(np.dot(x2d, a1d))"
   ]
  },
  {
   "cell_type": "markdown",
   "id": "05df3de3",
   "metadata": {},
   "source": [
    "Sum:"
   ]
  },
  {
   "cell_type": "code",
   "execution_count": 92,
   "id": "f9270438",
   "metadata": {},
   "outputs": [
    {
     "name": "stdout",
     "output_type": "stream",
     "text": [
      "66\n"
     ]
    }
   ],
   "source": [
    "# sum elements in the array\n",
    "ex1 = np.array([[11,12],[21,22]])\n",
    "\n",
    "print(np.sum(ex1))   # add all members"
   ]
  },
  {
   "cell_type": "code",
   "execution_count": 93,
   "id": "3d95a655",
   "metadata": {},
   "outputs": [
    {
     "name": "stdout",
     "output_type": "stream",
     "text": [
      "[32 34]\n"
     ]
    }
   ],
   "source": [
    "print(np.sum(ex1, axis=0))  # columnwise sum"
   ]
  },
  {
   "cell_type": "code",
   "execution_count": 94,
   "id": "e26d1f93",
   "metadata": {},
   "outputs": [
    {
     "data": {
      "text/plain": [
       "array([ 0.29825958, -1.7816841 ,  0.58038762,  0.53113876,  0.96866199,\n",
       "       -1.25961791,  0.43721718,  0.64911728])"
      ]
     },
     "execution_count": 94,
     "metadata": {},
     "output_type": "execute_result"
    }
   ],
   "source": [
    "# random array\n",
    "x = np.random.randn(8)\n",
    "x"
   ]
  },
  {
   "cell_type": "code",
   "execution_count": 95,
   "id": "fd4c2712",
   "metadata": {},
   "outputs": [
    {
     "data": {
      "text/plain": [
       "array([-0.29717058, -1.3203835 ,  0.99222589,  0.06611528, -0.18894772,\n",
       "       -1.42196745, -0.23614904, -0.88619254])"
      ]
     },
     "execution_count": 95,
     "metadata": {},
     "output_type": "execute_result"
    }
   ],
   "source": [
    "# another random array\n",
    "y = np.random.randn(8)\n",
    "y"
   ]
  },
  {
   "cell_type": "code",
   "execution_count": 96,
   "id": "5fb2d2aa",
   "metadata": {},
   "outputs": [
    {
     "name": "stdout",
     "output_type": "stream",
     "text": [
      "x= [ 0.58683556 -0.47801528  0.82493804 -0.48654745 -0.50493589  0.84984043\n",
      "  0.04584119  1.32659222]\n",
      "y= [ 2.26922019 -1.57008111  0.0457129   1.92138802  0.49877513 -1.16330694\n",
      "  0.77930204 -0.2185507 ]\n",
      "maximum= [ 2.26922019 -0.47801528  0.82493804  1.92138802  0.49877513  0.84984043\n",
      "  0.77930204  1.32659222]\n"
     ]
    }
   ],
   "source": [
    "# return element wise maximum between two arrays\n",
    "import numpy as np\n",
    "x = np.random.randn(8)\n",
    "print(\"x=\",x)\n",
    "y = np.random.randn(8)\n",
    "print(\"y=\",y)\n",
    "print(\"maximum=\", np.maximum(x, y))"
   ]
  },
  {
   "cell_type": "markdown",
   "id": "e30a182f",
   "metadata": {},
   "source": [
    "Reshape:"
   ]
  },
  {
   "cell_type": "code",
   "execution_count": 97,
   "id": "8e79cfed",
   "metadata": {},
   "outputs": [
    {
     "name": "stdout",
     "output_type": "stream",
     "text": [
      "[ 0  1  2  3  4  5  6  7  8  9 10 11 12 13 14 15 16 17 18 19]\n"
     ]
    }
   ],
   "source": [
    "# grab values from 0 thrpugh 19 in an array\n",
    "arr = np.arange(20)\n",
    "print(arr)"
   ]
  },
  {
   "cell_type": "code",
   "execution_count": 98,
   "id": "c4eb6081",
   "metadata": {},
   "outputs": [
    {
     "data": {
      "text/plain": [
       "array([[ 0,  1,  2,  3,  4],\n",
       "       [ 5,  6,  7,  8,  9],\n",
       "       [10, 11, 12, 13, 14],\n",
       "       [15, 16, 17, 18, 19]])"
      ]
     },
     "execution_count": 98,
     "metadata": {},
     "output_type": "execute_result"
    }
   ],
   "source": [
    "# reshape to be a 4 x 5 matrix\n",
    "arr.reshape(4,5)  # 5,4"
   ]
  },
  {
   "cell_type": "markdown",
   "id": "ab5b4525",
   "metadata": {},
   "source": [
    "Transpose:"
   ]
  },
  {
   "cell_type": "code",
   "execution_count": 99,
   "id": "3eebb6c7",
   "metadata": {},
   "outputs": [
    {
     "name": "stdout",
     "output_type": "stream",
     "text": [
      "[[ 0  5 10 15]\n",
      " [ 1  6 11 16]\n",
      " [ 2  7 12 17]\n",
      " [ 3  8 13 18]\n",
      " [ 4  9 14 19]]\n"
     ]
    }
   ],
   "source": [
    "trans=arr.reshape(4,5).T\n",
    "print(trans)"
   ]
  },
  {
   "cell_type": "markdown",
   "id": "d844297a",
   "metadata": {},
   "source": [
    "filter using .where():"
   ]
  },
  {
   "cell_type": "code",
   "execution_count": 100,
   "id": "fca85a9b",
   "metadata": {},
   "outputs": [],
   "source": [
    "x_1 = np.array([1,2,3,4,5])\n",
    "\n",
    "y_1 = np.array([11,22,33,44,55])\n",
    "# where we have true in filter it will print x_1 value and for false y_1 value\n",
    "# this is the working of .where function\n",
    "filter = np.array([True, False, True, False, True])"
   ]
  },
  {
   "cell_type": "code",
   "execution_count": 101,
   "id": "0f45104b",
   "metadata": {},
   "outputs": [
    {
     "name": "stdout",
     "output_type": "stream",
     "text": [
      "[ 1 22  3 44  5]\n"
     ]
    }
   ],
   "source": [
    "out = np.where(filter, x_1, y_1)\n",
    "print(out)"
   ]
  },
  {
   "cell_type": "markdown",
   "id": "4573b219",
   "metadata": {},
   "source": [
    "mat()"
   ]
  },
  {
   "cell_type": "code",
   "execution_count": 102,
   "id": "ea3c5f16",
   "metadata": {},
   "outputs": [
    {
     "data": {
      "text/plain": [
       "array([[0.62963615, 0.60289626, 0.44771746, 0.05040053, 0.57552765],\n",
       "       [0.70680509, 0.38631868, 0.1687714 , 0.24499127, 0.97819119],\n",
       "       [0.15787271, 0.93919476, 0.60862973, 0.70332097, 0.01469652],\n",
       "       [0.09374397, 0.11816237, 0.63081648, 0.35152479, 0.42365993],\n",
       "       [0.4915388 , 0.30121965, 0.08509333, 0.8029322 , 0.06473911]])"
      ]
     },
     "execution_count": 102,
     "metadata": {},
     "output_type": "execute_result"
    }
   ],
   "source": [
    "mat = np.random.rand(5,5) #mat() is used to interpret a given input as a matrix.\n",
    "mat"
   ]
  },
  {
   "cell_type": "code",
   "execution_count": 103,
   "id": "75577650",
   "metadata": {},
   "outputs": [
    {
     "data": {
      "text/plain": [
       "array([[1000, 1000,   -1,   -1, 1000],\n",
       "       [1000,   -1,   -1,   -1, 1000],\n",
       "       [  -1, 1000, 1000, 1000,   -1],\n",
       "       [  -1,   -1, 1000,   -1,   -1],\n",
       "       [  -1,   -1,   -1, 1000,   -1]])"
      ]
     },
     "execution_count": 103,
     "metadata": {},
     "output_type": "execute_result"
    }
   ],
   "source": [
    "np.where(mat > 0.5, 1000, -1)"
   ]
  },
  {
   "cell_type": "code",
   "execution_count": 104,
   "id": "91eea73d",
   "metadata": {},
   "outputs": [
    {
     "data": {
      "text/plain": [
       "'\\nif mat > 0.5:\\n    replace(1000)\\nelse:\\n    replace(-1)\\n'"
      ]
     },
     "execution_count": 104,
     "metadata": {},
     "output_type": "execute_result"
    }
   ],
   "source": [
    "'''\n",
    "if mat > 0.5:\n",
    "    replace(1000)\n",
    "else:\n",
    "    replace(-1)\n",
    "'''"
   ]
  },
  {
   "cell_type": "code",
   "execution_count": 105,
   "id": "ea44ecc2",
   "metadata": {},
   "outputs": [],
   "source": [
    "arr_bools = np.array([True, False, True, True, False])"
   ]
  },
  {
   "cell_type": "code",
   "execution_count": 106,
   "id": "fe4bdd68",
   "metadata": {},
   "outputs": [
    {
     "data": {
      "text/plain": [
       "True"
      ]
     },
     "execution_count": 106,
     "metadata": {},
     "output_type": "execute_result"
    }
   ],
   "source": [
    "arr_bools.any()  # is any value True"
   ]
  },
  {
   "cell_type": "code",
   "execution_count": 107,
   "id": "a2bfeb03",
   "metadata": {},
   "outputs": [
    {
     "data": {
      "text/plain": [
       "False"
      ]
     },
     "execution_count": 107,
     "metadata": {},
     "output_type": "execute_result"
    }
   ],
   "source": [
    "arr_bools.all()  # are all values True"
   ]
  },
  {
   "cell_type": "markdown",
   "id": "5cc1e4ba",
   "metadata": {},
   "source": [
    "Random number generation:"
   ]
  },
  {
   "cell_type": "code",
   "execution_count": 108,
   "id": "71a45192",
   "metadata": {},
   "outputs": [
    {
     "name": "stdout",
     "output_type": "stream",
     "text": [
      "[[1.10336125 0.57098275 0.70413314 0.75673884 1.61218209]]\n"
     ]
    }
   ],
   "source": [
    "import numpy as np\n",
    "Y = np.random.normal(size = (1,5))\n",
    "print(Y)"
   ]
  },
  {
   "cell_type": "code",
   "execution_count": 109,
   "id": "ade5acf8",
   "metadata": {},
   "outputs": [
    {
     "name": "stdout",
     "output_type": "stream",
     "text": [
      "[11 42 10 22]\n"
     ]
    }
   ],
   "source": [
    "Z = np.random.randint(low=2,high=50,size=4)  # randint for integer values\n",
    "print(Z)"
   ]
  },
  {
   "cell_type": "code",
   "execution_count": 110,
   "id": "acae8120",
   "metadata": {},
   "outputs": [
    {
     "data": {
      "text/plain": [
       "array([42, 22, 10, 11])"
      ]
     },
     "execution_count": 110,
     "metadata": {},
     "output_type": "execute_result"
    }
   ],
   "source": [
    "np.random.permutation(Z)  # return a new ordering of elements in Z"
   ]
  },
  {
   "cell_type": "code",
   "execution_count": 111,
   "id": "a1c51a66",
   "metadata": {},
   "outputs": [
    {
     "data": {
      "text/plain": [
       "array([0.01245345, 0.71468255, 0.75612639, 0.44474949])"
      ]
     },
     "execution_count": 111,
     "metadata": {},
     "output_type": "execute_result"
    }
   ],
   "source": [
    "np.random.uniform(size=4)  #uniform distribution"
   ]
  },
  {
   "cell_type": "code",
   "execution_count": 112,
   "id": "f6bb2c8d",
   "metadata": {},
   "outputs": [
    {
     "data": {
      "text/plain": [
       "array([ 0.33201208, -0.19197542, -0.21663515,  1.15975509])"
      ]
     },
     "execution_count": 112,
     "metadata": {},
     "output_type": "execute_result"
    }
   ],
   "source": [
    "np.random.normal(size=4) #normal distribution"
   ]
  },
  {
   "cell_type": "markdown",
   "id": "49dfbbef",
   "metadata": {},
   "source": [
    "Merging data sets:"
   ]
  },
  {
   "cell_type": "code",
   "execution_count": 113,
   "id": "1abb7a6c",
   "metadata": {},
   "outputs": [
    {
     "name": "stdout",
     "output_type": "stream",
     "text": [
      "[[19  4]\n",
      " [46 48]]\n",
      "\n",
      "[[39  8]\n",
      " [32 26]]\n"
     ]
    }
   ],
   "source": [
    "K = np.random.randint(low=2,high=50,size=(2,2))\n",
    "print(K)\n",
    "\n",
    "print()\n",
    "M = np.random.randint(low=2, high=50, size=(2,2))\n",
    "print(M)"
   ]
  },
  {
   "cell_type": "code",
   "execution_count": 114,
   "id": "1a63ab01",
   "metadata": {},
   "outputs": [
    {
     "data": {
      "text/plain": [
       "array([[19,  4],\n",
       "       [46, 48],\n",
       "       [39,  8],\n",
       "       [32, 26]])"
      ]
     },
     "execution_count": 114,
     "metadata": {},
     "output_type": "execute_result"
    }
   ],
   "source": [
    "np.vstack((K,M))  # join vertically"
   ]
  },
  {
   "cell_type": "code",
   "execution_count": 115,
   "id": "bd2e3a26",
   "metadata": {},
   "outputs": [
    {
     "data": {
      "text/plain": [
       "array([[19,  4, 39,  8],\n",
       "       [46, 48, 32, 26]])"
      ]
     },
     "execution_count": 115,
     "metadata": {},
     "output_type": "execute_result"
    }
   ],
   "source": [
    "np.hstack((K,M))  # join horizontally"
   ]
  },
  {
   "cell_type": "code",
   "execution_count": 116,
   "id": "30d56c54",
   "metadata": {},
   "outputs": [
    {
     "data": {
      "text/plain": [
       "array([[19,  4],\n",
       "       [46, 48],\n",
       "       [39,  8],\n",
       "       [32, 26]])"
      ]
     },
     "execution_count": 116,
     "metadata": {},
     "output_type": "execute_result"
    }
   ],
   "source": [
    "np.concatenate([K, M], axis = 0)  # columnwise"
   ]
  },
  {
   "cell_type": "code",
   "execution_count": 117,
   "id": "b338648e",
   "metadata": {},
   "outputs": [
    {
     "data": {
      "text/plain": [
       "array([[19,  4, 39, 32],\n",
       "       [46, 48,  8, 26]])"
      ]
     },
     "execution_count": 117,
     "metadata": {},
     "output_type": "execute_result"
    }
   ],
   "source": [
    "np.concatenate([K, M.T], axis = 1)  #rowwise"
   ]
  },
  {
   "cell_type": "code",
   "execution_count": null,
   "id": "1aa905df",
   "metadata": {},
   "outputs": [],
   "source": []
  }
 ],
 "metadata": {
  "kernelspec": {
   "display_name": "Python 3",
   "language": "python",
   "name": "python3"
  },
  "language_info": {
   "codemirror_mode": {
    "name": "ipython",
    "version": 3
   },
   "file_extension": ".py",
   "mimetype": "text/x-python",
   "name": "python",
   "nbconvert_exporter": "python",
   "pygments_lexer": "ipython3",
   "version": "3.8.8"
  }
 },
 "nbformat": 4,
 "nbformat_minor": 5
}
